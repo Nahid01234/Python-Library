{
 "cells": [
  {
   "cell_type": "markdown",
   "id": "0d113e5d",
   "metadata": {},
   "source": [
    "#                                          ❤Pandas❤"
   ]
  },
  {
   "cell_type": "markdown",
   "id": "fb6b4e25",
   "metadata": {},
   "source": [
    "## 1.Series"
   ]
  },
  {
   "cell_type": "code",
   "execution_count": 1,
   "id": "bfd58d77",
   "metadata": {},
   "outputs": [],
   "source": [
    "import pandas as pd\n",
    "import numpy as np\n",
    "import seaborn as sns \n",
    "import matplotlib.pyplot as plt"
   ]
  },
  {
   "cell_type": "code",
   "execution_count": 2,
   "id": "3d2477da",
   "metadata": {},
   "outputs": [],
   "source": [
    "df=pd.read_csv('DailyDelhiClimateTest.csv')"
   ]
  },
  {
   "cell_type": "code",
   "execution_count": 3,
   "id": "7257c07c",
   "metadata": {},
   "outputs": [
    {
     "data": {
      "text/html": [
       "<div>\n",
       "<style scoped>\n",
       "    .dataframe tbody tr th:only-of-type {\n",
       "        vertical-align: middle;\n",
       "    }\n",
       "\n",
       "    .dataframe tbody tr th {\n",
       "        vertical-align: top;\n",
       "    }\n",
       "\n",
       "    .dataframe thead th {\n",
       "        text-align: right;\n",
       "    }\n",
       "</style>\n",
       "<table border=\"1\" class=\"dataframe\">\n",
       "  <thead>\n",
       "    <tr style=\"text-align: right;\">\n",
       "      <th></th>\n",
       "      <th>date</th>\n",
       "      <th>meantemp</th>\n",
       "      <th>humidity</th>\n",
       "      <th>wind_speed</th>\n",
       "      <th>meanpressure</th>\n",
       "    </tr>\n",
       "  </thead>\n",
       "  <tbody>\n",
       "    <tr>\n",
       "      <th>0</th>\n",
       "      <td>2017-01-01</td>\n",
       "      <td>15.913043</td>\n",
       "      <td>85.869565</td>\n",
       "      <td>2.743478</td>\n",
       "      <td>59.000000</td>\n",
       "    </tr>\n",
       "    <tr>\n",
       "      <th>1</th>\n",
       "      <td>2017-01-02</td>\n",
       "      <td>18.500000</td>\n",
       "      <td>77.222222</td>\n",
       "      <td>2.894444</td>\n",
       "      <td>1018.277778</td>\n",
       "    </tr>\n",
       "    <tr>\n",
       "      <th>2</th>\n",
       "      <td>2017-01-03</td>\n",
       "      <td>17.111111</td>\n",
       "      <td>81.888889</td>\n",
       "      <td>4.016667</td>\n",
       "      <td>1018.333333</td>\n",
       "    </tr>\n",
       "    <tr>\n",
       "      <th>3</th>\n",
       "      <td>2017-01-04</td>\n",
       "      <td>18.700000</td>\n",
       "      <td>70.050000</td>\n",
       "      <td>4.545000</td>\n",
       "      <td>1015.700000</td>\n",
       "    </tr>\n",
       "    <tr>\n",
       "      <th>4</th>\n",
       "      <td>2017-01-05</td>\n",
       "      <td>18.388889</td>\n",
       "      <td>74.944444</td>\n",
       "      <td>3.300000</td>\n",
       "      <td>1014.333333</td>\n",
       "    </tr>\n",
       "    <tr>\n",
       "      <th>...</th>\n",
       "      <td>...</td>\n",
       "      <td>...</td>\n",
       "      <td>...</td>\n",
       "      <td>...</td>\n",
       "      <td>...</td>\n",
       "    </tr>\n",
       "    <tr>\n",
       "      <th>109</th>\n",
       "      <td>2017-04-20</td>\n",
       "      <td>34.500000</td>\n",
       "      <td>27.500000</td>\n",
       "      <td>5.562500</td>\n",
       "      <td>998.625000</td>\n",
       "    </tr>\n",
       "    <tr>\n",
       "      <th>110</th>\n",
       "      <td>2017-04-21</td>\n",
       "      <td>34.250000</td>\n",
       "      <td>39.375000</td>\n",
       "      <td>6.962500</td>\n",
       "      <td>999.875000</td>\n",
       "    </tr>\n",
       "    <tr>\n",
       "      <th>111</th>\n",
       "      <td>2017-04-22</td>\n",
       "      <td>32.900000</td>\n",
       "      <td>40.900000</td>\n",
       "      <td>8.890000</td>\n",
       "      <td>1001.600000</td>\n",
       "    </tr>\n",
       "    <tr>\n",
       "      <th>112</th>\n",
       "      <td>2017-04-23</td>\n",
       "      <td>32.875000</td>\n",
       "      <td>27.500000</td>\n",
       "      <td>9.962500</td>\n",
       "      <td>1002.125000</td>\n",
       "    </tr>\n",
       "    <tr>\n",
       "      <th>113</th>\n",
       "      <td>2017-04-24</td>\n",
       "      <td>32.000000</td>\n",
       "      <td>27.142857</td>\n",
       "      <td>12.157143</td>\n",
       "      <td>1004.142857</td>\n",
       "    </tr>\n",
       "  </tbody>\n",
       "</table>\n",
       "<p>114 rows × 5 columns</p>\n",
       "</div>"
      ],
      "text/plain": [
       "           date   meantemp   humidity  wind_speed  meanpressure\n",
       "0    2017-01-01  15.913043  85.869565    2.743478     59.000000\n",
       "1    2017-01-02  18.500000  77.222222    2.894444   1018.277778\n",
       "2    2017-01-03  17.111111  81.888889    4.016667   1018.333333\n",
       "3    2017-01-04  18.700000  70.050000    4.545000   1015.700000\n",
       "4    2017-01-05  18.388889  74.944444    3.300000   1014.333333\n",
       "..          ...        ...        ...         ...           ...\n",
       "109  2017-04-20  34.500000  27.500000    5.562500    998.625000\n",
       "110  2017-04-21  34.250000  39.375000    6.962500    999.875000\n",
       "111  2017-04-22  32.900000  40.900000    8.890000   1001.600000\n",
       "112  2017-04-23  32.875000  27.500000    9.962500   1002.125000\n",
       "113  2017-04-24  32.000000  27.142857   12.157143   1004.142857\n",
       "\n",
       "[114 rows x 5 columns]"
      ]
     },
     "execution_count": 3,
     "metadata": {},
     "output_type": "execute_result"
    }
   ],
   "source": [
    "df"
   ]
  },
  {
   "cell_type": "code",
   "execution_count": 14,
   "id": "3dc83d93",
   "metadata": {},
   "outputs": [
    {
     "data": {
      "image/png": "[encoded data removed]",
      "text/plain": [
       "<Figure size 640x480 with 9 Axes>"
      ]
     },
     "metadata": {},
     "output_type": "display_data"
    }
   ],
   "source": [
    "df.plot(kind=\"box\",subplots=True,sharex=False,sharey=False,layout=(3,3))\n",
    "plt.show()"
   ]
  },
  {
   "cell_type": "code",
   "execution_count": null,
   "id": "4b92a5e2",
   "metadata": {},
   "outputs": [],
   "source": []
  },
  {
   "cell_type": "code",
   "execution_count": 62,
   "id": "1f0eb301",
   "metadata": {},
   "outputs": [
    {
     "data": {
      "text/plain": [
       "56.258361837263266"
      ]
     },
     "execution_count": 62,
     "metadata": {},
     "output_type": "execute_result"
    }
   ],
   "source": [
    "df[\"humidity\"].mean()"
   ]
  },
  {
   "cell_type": "code",
   "execution_count": 63,
   "id": "cd820441",
   "metadata": {},
   "outputs": [],
   "source": [
    "df[\"mean-env\"]=df[\"meantemp\"]+df[\"meanpressure\"]"
   ]
  },
  {
   "cell_type": "code",
   "execution_count": 66,
   "id": "a860ce8a",
   "metadata": {},
   "outputs": [
    {
     "data": {
      "text/plain": [
       "0        74.913043\n",
       "1      1036.777778\n",
       "2      1035.444444\n",
       "3      1034.400000\n",
       "4      1032.722222\n",
       "          ...     \n",
       "109    1033.125000\n",
       "110    1034.125000\n",
       "111    1034.500000\n",
       "112    1035.000000\n",
       "113    1036.142857\n",
       "Name: mean-env, Length: 114, dtype: float64"
      ]
     },
     "execution_count": 66,
     "metadata": {},
     "output_type": "execute_result"
    }
   ],
   "source": [
    "df[\"mean-env\"]"
   ]
  },
  {
   "cell_type": "code",
   "execution_count": 73,
   "id": "4d8238c3",
   "metadata": {},
   "outputs": [],
   "source": [
    "df.loc[df[\"mean-env\"]>1032,\"meanenvir\"]=1\n",
    "df.loc[df[\"mean-env\"]<=1032,\"meanenvir\"]=0"
   ]
  },
  {
   "cell_type": "code",
   "execution_count": 78,
   "id": "0029c3bd",
   "metadata": {},
   "outputs": [
    {
     "data": {
      "text/plain": [
       "<AxesSubplot:>"
      ]
     },
     "execution_count": 78,
     "metadata": {},
     "output_type": "execute_result"
    },
    {
     "data": {
      "image/png": "[encoded data removed]",
      "text/plain": [
       "<Figure size 640x480 with 1 Axes>"
      ]
     },
     "metadata": {},
     "output_type": "display_data"
    }
   ],
   "source": [
    "df[\"meanenvir\"].value_counts().plot(kind=\"bar\")"
   ]
  },
  {
   "cell_type": "code",
   "execution_count": null,
   "id": "def871a7",
   "metadata": {},
   "outputs": [],
   "source": []
  },
  {
   "cell_type": "code",
   "execution_count": 2,
   "id": "79bdb452",
   "metadata": {},
   "outputs": [
    {
     "name": "stdout",
     "output_type": "stream",
     "text": [
      "0    A\n",
      "1    B\n",
      "2    C\n",
      "3    D\n",
      "4    E\n",
      "dtype: object\n"
     ]
    }
   ],
   "source": [
    "ls=[\"A\",\"B\",\"C\",\"D\",\"E\"]\n",
    "panda=pd.Series(ls)\n",
    "print(panda)"
   ]
  },
  {
   "cell_type": "code",
   "execution_count": 3,
   "id": "95a58505",
   "metadata": {},
   "outputs": [
    {
     "name": "stdout",
     "output_type": "stream",
     "text": [
      "<class 'str'>\n",
      "<class 'pandas.core.series.Series'>\n"
     ]
    }
   ],
   "source": [
    "print(type(panda[0]))\n",
    "print(type(panda))"
   ]
  },
  {
   "cell_type": "code",
   "execution_count": 4,
   "id": "97bb07bd",
   "metadata": {},
   "outputs": [
    {
     "data": {
      "text/plain": [
       "(5,)"
      ]
     },
     "execution_count": 4,
     "metadata": {},
     "output_type": "execute_result"
    }
   ],
   "source": [
    "panda.shape"
   ]
  },
  {
   "cell_type": "markdown",
   "id": "3a21e624",
   "metadata": {},
   "source": [
    "##### Creat Labels"
   ]
  },
  {
   "cell_type": "code",
   "execution_count": 5,
   "id": "d3765c83",
   "metadata": {},
   "outputs": [
    {
     "name": "stdout",
     "output_type": "stream",
     "text": [
      "name1      Nahid\n",
      "name2      Sajid\n",
      "name3    Mahamud\n",
      "dtype: object\n"
     ]
    }
   ],
   "source": [
    "name=[\"Nahid\",\"Sajid\",\"Mahamud\"]\n",
    "panda=pd.Series(name,index=[\"name1\",\"name2\",\"name3\"])\n",
    "print(panda)"
   ]
  },
  {
   "cell_type": "code",
   "execution_count": 6,
   "id": "93e73bbd",
   "metadata": {},
   "outputs": [
    {
     "name": "stdout",
     "output_type": "stream",
     "text": [
      "Nahid\n"
     ]
    }
   ],
   "source": [
    "print(panda[\"name1\"])"
   ]
  },
  {
   "cell_type": "markdown",
   "id": "a072d3d3",
   "metadata": {},
   "source": [
    "#### Key/Value Objects Series"
   ]
  },
  {
   "cell_type": "code",
   "execution_count": 7,
   "id": "036d86aa",
   "metadata": {},
   "outputs": [
    {
     "name": "stdout",
     "output_type": "stream",
     "text": [
      "name                   Nahid\n",
      "age                       23\n",
      "dream         ML Profesonals\n",
      "dtype: object\n"
     ]
    }
   ],
   "source": [
    "dic={\"name\":\"Nahid\",\"age\":23,\"dream\":\"     ML Profesonals\"}\n",
    "panda=pd.Series(dic)\n",
    "print(panda)"
   ]
  },
  {
   "cell_type": "markdown",
   "id": "d4f4a664",
   "metadata": {},
   "source": [
    "## 2.DataFrame"
   ]
  },
  {
   "cell_type": "markdown",
   "id": "e27099a4",
   "metadata": {},
   "source": [
    "#### Basics"
   ]
  },
  {
   "cell_type": "code",
   "execution_count": 8,
   "id": "dd78fd93",
   "metadata": {},
   "outputs": [
    {
     "data": {
      "text/html": [
       "<div>\n",
       "<style scoped>\n",
       "    .dataframe tbody tr th:only-of-type {\n",
       "        vertical-align: middle;\n",
       "    }\n",
       "\n",
       "    .dataframe tbody tr th {\n",
       "        vertical-align: top;\n",
       "    }\n",
       "\n",
       "    .dataframe thead th {\n",
       "        text-align: right;\n",
       "    }\n",
       "</style>\n",
       "<table border=\"1\" class=\"dataframe\">\n",
       "  <thead>\n",
       "    <tr style=\"text-align: right;\">\n",
       "      <th></th>\n",
       "      <th>0</th>\n",
       "      <th>1</th>\n",
       "      <th>2</th>\n",
       "    </tr>\n",
       "  </thead>\n",
       "  <tbody>\n",
       "    <tr>\n",
       "      <th>0</th>\n",
       "      <td>AI</td>\n",
       "      <td>ML</td>\n",
       "      <td>DL</td>\n",
       "    </tr>\n",
       "    <tr>\n",
       "      <th>1</th>\n",
       "      <td>Artificial Inteligence</td>\n",
       "      <td>Machine Learning</td>\n",
       "      <td>Deep Learning</td>\n",
       "    </tr>\n",
       "  </tbody>\n",
       "</table>\n",
       "</div>"
      ],
      "text/plain": [
       "                        0                 1              2\n",
       "0                      AI                ML             DL\n",
       "1  Artificial Inteligence  Machine Learning  Deep Learning"
      ]
     },
     "execution_count": 8,
     "metadata": {},
     "output_type": "execute_result"
    }
   ],
   "source": [
    "ls=[[\"AI\",\"ML\",\"DL\"],[\"Artificial Inteligence\",\"Machine Learning\",\"Deep Learning\"]]\n",
    "df=pd.DataFrame(ls)\n",
    "(df)"
   ]
  },
  {
   "cell_type": "code",
   "execution_count": 9,
   "id": "2a61464e",
   "metadata": {},
   "outputs": [
    {
     "data": {
      "text/html": [
       "<div>\n",
       "<style scoped>\n",
       "    .dataframe tbody tr th:only-of-type {\n",
       "        vertical-align: middle;\n",
       "    }\n",
       "\n",
       "    .dataframe tbody tr th {\n",
       "        vertical-align: top;\n",
       "    }\n",
       "\n",
       "    .dataframe thead th {\n",
       "        text-align: right;\n",
       "    }\n",
       "</style>\n",
       "<table border=\"1\" class=\"dataframe\">\n",
       "  <thead>\n",
       "    <tr style=\"text-align: right;\">\n",
       "      <th></th>\n",
       "      <th>NAME</th>\n",
       "      <th>AGE</th>\n",
       "      <th>HOME</th>\n",
       "    </tr>\n",
       "  </thead>\n",
       "  <tbody>\n",
       "    <tr>\n",
       "      <th>info_1</th>\n",
       "      <td>Nahid</td>\n",
       "      <td>23</td>\n",
       "      <td>Dinajpur</td>\n",
       "    </tr>\n",
       "    <tr>\n",
       "      <th>info_2</th>\n",
       "      <td>Mahamud</td>\n",
       "      <td>24</td>\n",
       "      <td>Rangpur</td>\n",
       "    </tr>\n",
       "    <tr>\n",
       "      <th>info_3</th>\n",
       "      <td>Sajid</td>\n",
       "      <td>24</td>\n",
       "      <td>Jamalpur</td>\n",
       "    </tr>\n",
       "  </tbody>\n",
       "</table>\n",
       "</div>"
      ],
      "text/plain": [
       "           NAME  AGE      HOME\n",
       "info_1    Nahid   23  Dinajpur\n",
       "info_2  Mahamud   24   Rangpur\n",
       "info_3    Sajid   24  Jamalpur"
      ]
     },
     "execution_count": 9,
     "metadata": {},
     "output_type": "execute_result"
    }
   ],
   "source": [
    "dic={\"NAME\":[\"Nahid\",\"Mahamud\",\"Sajid\"],\"AGE\":[23,24,24],\"HOME\":[\"Dinajpur\",\"Rangpur\",\"Jamalpur\"]}\n",
    "dic=pd.DataFrame(dic,index=[\"info_1\",\"info_2\",\"info_3\"]) \n",
    "(dic)"
   ]
  },
  {
   "cell_type": "code",
   "execution_count": 10,
   "id": "e696ffe6",
   "metadata": {},
   "outputs": [
    {
     "data": {
      "text/html": [
       "<div>\n",
       "<style scoped>\n",
       "    .dataframe tbody tr th:only-of-type {\n",
       "        vertical-align: middle;\n",
       "    }\n",
       "\n",
       "    .dataframe tbody tr th {\n",
       "        vertical-align: top;\n",
       "    }\n",
       "\n",
       "    .dataframe thead th {\n",
       "        text-align: right;\n",
       "    }\n",
       "</style>\n",
       "<table border=\"1\" class=\"dataframe\">\n",
       "  <thead>\n",
       "    <tr style=\"text-align: right;\">\n",
       "      <th></th>\n",
       "      <th>AGE</th>\n",
       "      <th>HOME</th>\n",
       "    </tr>\n",
       "    <tr>\n",
       "      <th>NAME</th>\n",
       "      <th></th>\n",
       "      <th></th>\n",
       "    </tr>\n",
       "  </thead>\n",
       "  <tbody>\n",
       "    <tr>\n",
       "      <th>Nahid</th>\n",
       "      <td>23</td>\n",
       "      <td>Dinajpur</td>\n",
       "    </tr>\n",
       "    <tr>\n",
       "      <th>Mahamud</th>\n",
       "      <td>24</td>\n",
       "      <td>Rangpur</td>\n",
       "    </tr>\n",
       "    <tr>\n",
       "      <th>Sajid</th>\n",
       "      <td>24</td>\n",
       "      <td>Jamalpur</td>\n",
       "    </tr>\n",
       "  </tbody>\n",
       "</table>\n",
       "</div>"
      ],
      "text/plain": [
       "         AGE      HOME\n",
       "NAME                  \n",
       "Nahid     23  Dinajpur\n",
       "Mahamud   24   Rangpur\n",
       "Sajid     24  Jamalpur"
      ]
     },
     "execution_count": 10,
     "metadata": {},
     "output_type": "execute_result"
    }
   ],
   "source": [
    "dic.set_index(\"NAME\",inplace=True)\n",
    "dic"
   ]
  },
  {
   "cell_type": "code",
   "execution_count": 11,
   "id": "1f3cd5d7",
   "metadata": {},
   "outputs": [
    {
     "data": {
      "text/plain": [
       "'Dinajpur'"
      ]
     },
     "execution_count": 11,
     "metadata": {},
     "output_type": "execute_result"
    }
   ],
   "source": [
    "dic.loc[\"Nahid\"][\"HOME\"]"
   ]
  },
  {
   "cell_type": "markdown",
   "id": "124af506",
   "metadata": {},
   "source": [
    "#### Locate(Loc atribute)"
   ]
  },
  {
   "cell_type": "code",
   "execution_count": 12,
   "id": "dac3eb37",
   "metadata": {},
   "outputs": [
    {
     "data": {
      "text/html": [
       "<div>\n",
       "<style scoped>\n",
       "    .dataframe tbody tr th:only-of-type {\n",
       "        vertical-align: middle;\n",
       "    }\n",
       "\n",
       "    .dataframe tbody tr th {\n",
       "        vertical-align: top;\n",
       "    }\n",
       "\n",
       "    .dataframe thead th {\n",
       "        text-align: right;\n",
       "    }\n",
       "</style>\n",
       "<table border=\"1\" class=\"dataframe\">\n",
       "  <thead>\n",
       "    <tr style=\"text-align: right;\">\n",
       "      <th></th>\n",
       "      <th>NAME</th>\n",
       "      <th>SALARY</th>\n",
       "      <th>JOB TITLE</th>\n",
       "    </tr>\n",
       "  </thead>\n",
       "  <tbody>\n",
       "    <tr>\n",
       "      <th>info1:</th>\n",
       "      <td>Jack</td>\n",
       "      <td>100k$</td>\n",
       "      <td>ML enginner</td>\n",
       "    </tr>\n",
       "    <tr>\n",
       "      <th>info2:</th>\n",
       "      <td>Bob</td>\n",
       "      <td>120k$</td>\n",
       "      <td>MLops engineer</td>\n",
       "    </tr>\n",
       "    <tr>\n",
       "      <th>info3:</th>\n",
       "      <td>Hanson</td>\n",
       "      <td>150k$</td>\n",
       "      <td>AI scientist</td>\n",
       "    </tr>\n",
       "  </tbody>\n",
       "</table>\n",
       "</div>"
      ],
      "text/plain": [
       "          NAME SALARY       JOB TITLE\n",
       "info1:    Jack  100k$     ML enginner\n",
       "info2:     Bob  120k$  MLops engineer\n",
       "info3:  Hanson  150k$    AI scientist"
      ]
     },
     "execution_count": 12,
     "metadata": {},
     "output_type": "execute_result"
    }
   ],
   "source": [
    "dic={\"NAME\":[\"Jack\",\"Bob\",\"Hanson\"],\"SALARY\":[\"100k$\",\"120k$\",\"150k$\"],\"JOB TITLE\":[\"ML enginner\",\"MLops engineer\",\"AI scientist\"]}\n",
    "panda=pd.DataFrame(dic,index=[\"info1:\",\"info2:\",\"info3:\"])\n",
    "(panda)"
   ]
  },
  {
   "cell_type": "code",
   "execution_count": 13,
   "id": "b44792db",
   "metadata": {},
   "outputs": [
    {
     "data": {
      "text/plain": [
       "'Jack'"
      ]
     },
     "execution_count": 13,
     "metadata": {},
     "output_type": "execute_result"
    }
   ],
   "source": [
    "panda.iat[0,0]"
   ]
  },
  {
   "cell_type": "code",
   "execution_count": 14,
   "id": "0110cc2a",
   "metadata": {},
   "outputs": [],
   "source": [
    "panda.loc[\"info2:\",[\"NAME\",\"JOB TITLE\"]]=[\"Smith\",\"Data Scientist\"]"
   ]
  },
  {
   "cell_type": "code",
   "execution_count": 15,
   "id": "06a5952b",
   "metadata": {},
   "outputs": [
    {
     "data": {
      "text/html": [
       "<div>\n",
       "<style scoped>\n",
       "    .dataframe tbody tr th:only-of-type {\n",
       "        vertical-align: middle;\n",
       "    }\n",
       "\n",
       "    .dataframe tbody tr th {\n",
       "        vertical-align: top;\n",
       "    }\n",
       "\n",
       "    .dataframe thead th {\n",
       "        text-align: right;\n",
       "    }\n",
       "</style>\n",
       "<table border=\"1\" class=\"dataframe\">\n",
       "  <thead>\n",
       "    <tr style=\"text-align: right;\">\n",
       "      <th></th>\n",
       "      <th>NAME</th>\n",
       "      <th>SALARY</th>\n",
       "      <th>JOB TITLE</th>\n",
       "    </tr>\n",
       "  </thead>\n",
       "  <tbody>\n",
       "    <tr>\n",
       "      <th>info1:</th>\n",
       "      <td>Jack</td>\n",
       "      <td>100k$</td>\n",
       "      <td>ML enginner</td>\n",
       "    </tr>\n",
       "    <tr>\n",
       "      <th>info2:</th>\n",
       "      <td>Smith</td>\n",
       "      <td>120k$</td>\n",
       "      <td>Data Scientist</td>\n",
       "    </tr>\n",
       "    <tr>\n",
       "      <th>info3:</th>\n",
       "      <td>Hanson</td>\n",
       "      <td>150k$</td>\n",
       "      <td>AI scientist</td>\n",
       "    </tr>\n",
       "  </tbody>\n",
       "</table>\n",
       "</div>"
      ],
      "text/plain": [
       "          NAME SALARY       JOB TITLE\n",
       "info1:    Jack  100k$     ML enginner\n",
       "info2:   Smith  120k$  Data Scientist\n",
       "info3:  Hanson  150k$    AI scientist"
      ]
     },
     "execution_count": 15,
     "metadata": {},
     "output_type": "execute_result"
    }
   ],
   "source": [
    "panda\n"
   ]
  },
  {
   "cell_type": "code",
   "execution_count": null,
   "id": "ca85a592",
   "metadata": {},
   "outputs": [],
   "source": []
  },
  {
   "cell_type": "code",
   "execution_count": null,
   "id": "3bc2cb8e",
   "metadata": {},
   "outputs": [],
   "source": []
  },
  {
   "cell_type": "code",
   "execution_count": null,
   "id": "dbedb3d9",
   "metadata": {},
   "outputs": [],
   "source": []
  },
  {
   "cell_type": "code",
   "execution_count": null,
   "id": "ea9f68e1",
   "metadata": {},
   "outputs": [],
   "source": []
  },
  {
   "cell_type": "code",
   "execution_count": null,
   "id": "dc66a43c",
   "metadata": {},
   "outputs": [],
   "source": []
  },
  {
   "cell_type": "code",
   "execution_count": null,
   "id": "c8aa34e0",
   "metadata": {},
   "outputs": [],
   "source": []
  },
  {
   "cell_type": "code",
   "execution_count": null,
   "id": "a68d74a6",
   "metadata": {},
   "outputs": [],
   "source": []
  },
  {
   "cell_type": "code",
   "execution_count": null,
   "id": "3125e8b0",
   "metadata": {},
   "outputs": [],
   "source": []
  },
  {
   "cell_type": "code",
   "execution_count": null,
   "id": "4c278a0f",
   "metadata": {},
   "outputs": [],
   "source": []
  },
  {
   "cell_type": "code",
   "execution_count": null,
   "id": "92785f35",
   "metadata": {},
   "outputs": [],
   "source": []
  },
  {
   "cell_type": "code",
   "execution_count": 16,
   "id": "e1460508",
   "metadata": {},
   "outputs": [
    {
     "data": {
      "text/html": [
       "<div>\n",
       "<style scoped>\n",
       "    .dataframe tbody tr th:only-of-type {\n",
       "        vertical-align: middle;\n",
       "    }\n",
       "\n",
       "    .dataframe tbody tr th {\n",
       "        vertical-align: top;\n",
       "    }\n",
       "\n",
       "    .dataframe thead th {\n",
       "        text-align: right;\n",
       "    }\n",
       "</style>\n",
       "<table border=\"1\" class=\"dataframe\">\n",
       "  <thead>\n",
       "    <tr style=\"text-align: right;\">\n",
       "      <th></th>\n",
       "      <th>NAME</th>\n",
       "      <th>SALARY</th>\n",
       "      <th>JOB TITLE</th>\n",
       "    </tr>\n",
       "  </thead>\n",
       "  <tbody>\n",
       "    <tr>\n",
       "      <th>info1:</th>\n",
       "      <td>Jack</td>\n",
       "      <td>100k$</td>\n",
       "      <td>ML enginner</td>\n",
       "    </tr>\n",
       "    <tr>\n",
       "      <th>info2:</th>\n",
       "      <td>Smith</td>\n",
       "      <td>120k$</td>\n",
       "      <td>Data Scientist</td>\n",
       "    </tr>\n",
       "    <tr>\n",
       "      <th>info3:</th>\n",
       "      <td>Hanson</td>\n",
       "      <td>150k$</td>\n",
       "      <td>AI scientist</td>\n",
       "    </tr>\n",
       "  </tbody>\n",
       "</table>\n",
       "</div>"
      ],
      "text/plain": [
       "          NAME SALARY       JOB TITLE\n",
       "info1:    Jack  100k$     ML enginner\n",
       "info2:   Smith  120k$  Data Scientist\n",
       "info3:  Hanson  150k$    AI scientist"
      ]
     },
     "execution_count": 16,
     "metadata": {},
     "output_type": "execute_result"
    }
   ],
   "source": [
    "panda"
   ]
  },
  {
   "cell_type": "code",
   "execution_count": 17,
   "id": "625bc341",
   "metadata": {},
   "outputs": [],
   "source": [
    "panda[\"NAME\"]=panda[\"NAME\"].str.lower()\n",
    "panda[\"JOB TITLE\"]=panda[\"JOB TITLE\"].str.upper()"
   ]
  },
  {
   "cell_type": "code",
   "execution_count": 18,
   "id": "db33b010",
   "metadata": {},
   "outputs": [
    {
     "data": {
      "text/html": [
       "<div>\n",
       "<style scoped>\n",
       "    .dataframe tbody tr th:only-of-type {\n",
       "        vertical-align: middle;\n",
       "    }\n",
       "\n",
       "    .dataframe tbody tr th {\n",
       "        vertical-align: top;\n",
       "    }\n",
       "\n",
       "    .dataframe thead th {\n",
       "        text-align: right;\n",
       "    }\n",
       "</style>\n",
       "<table border=\"1\" class=\"dataframe\">\n",
       "  <thead>\n",
       "    <tr style=\"text-align: right;\">\n",
       "      <th></th>\n",
       "      <th>NAME</th>\n",
       "      <th>SALARY</th>\n",
       "      <th>JOB TITLE</th>\n",
       "    </tr>\n",
       "  </thead>\n",
       "  <tbody>\n",
       "    <tr>\n",
       "      <th>info1:</th>\n",
       "      <td>jack</td>\n",
       "      <td>100k$</td>\n",
       "      <td>ML ENGINNER</td>\n",
       "    </tr>\n",
       "    <tr>\n",
       "      <th>info2:</th>\n",
       "      <td>smith</td>\n",
       "      <td>120k$</td>\n",
       "      <td>DATA SCIENTIST</td>\n",
       "    </tr>\n",
       "    <tr>\n",
       "      <th>info3:</th>\n",
       "      <td>hanson</td>\n",
       "      <td>150k$</td>\n",
       "      <td>AI SCIENTIST</td>\n",
       "    </tr>\n",
       "  </tbody>\n",
       "</table>\n",
       "</div>"
      ],
      "text/plain": [
       "          NAME SALARY       JOB TITLE\n",
       "info1:    jack  100k$     ML ENGINNER\n",
       "info2:   smith  120k$  DATA SCIENTIST\n",
       "info3:  hanson  150k$    AI SCIENTIST"
      ]
     },
     "execution_count": 18,
     "metadata": {},
     "output_type": "execute_result"
    }
   ],
   "source": [
    "panda"
   ]
  },
  {
   "cell_type": "code",
   "execution_count": 19,
   "id": "167f4612",
   "metadata": {},
   "outputs": [
    {
     "data": {
      "text/html": [
       "<div>\n",
       "<style scoped>\n",
       "    .dataframe tbody tr th:only-of-type {\n",
       "        vertical-align: middle;\n",
       "    }\n",
       "\n",
       "    .dataframe tbody tr th {\n",
       "        vertical-align: top;\n",
       "    }\n",
       "\n",
       "    .dataframe thead th {\n",
       "        text-align: right;\n",
       "    }\n",
       "</style>\n",
       "<table border=\"1\" class=\"dataframe\">\n",
       "  <thead>\n",
       "    <tr style=\"text-align: right;\">\n",
       "      <th></th>\n",
       "      <th>NAME</th>\n",
       "      <th>SALARY</th>\n",
       "      <th>JOB TITLE</th>\n",
       "    </tr>\n",
       "  </thead>\n",
       "  <tbody>\n",
       "    <tr>\n",
       "      <th>info1:</th>\n",
       "      <td>jack</td>\n",
       "      <td>100k$</td>\n",
       "      <td>ML ENGINNER</td>\n",
       "    </tr>\n",
       "    <tr>\n",
       "      <th>info2:</th>\n",
       "      <td>smith</td>\n",
       "      <td>120k$</td>\n",
       "      <td>DATA SCIENTIST</td>\n",
       "    </tr>\n",
       "    <tr>\n",
       "      <th>info3:</th>\n",
       "      <td>hanson</td>\n",
       "      <td>150k$</td>\n",
       "      <td>AI SCIENTIST</td>\n",
       "    </tr>\n",
       "  </tbody>\n",
       "</table>\n",
       "</div>"
      ],
      "text/plain": [
       "          NAME SALARY       JOB TITLE\n",
       "info1:    jack  100k$     ML ENGINNER\n",
       "info2:   smith  120k$  DATA SCIENTIST\n",
       "info3:  hanson  150k$    AI SCIENTIST"
      ]
     },
     "execution_count": 19,
     "metadata": {},
     "output_type": "execute_result"
    }
   ],
   "source": [
    "panda"
   ]
  },
  {
   "cell_type": "code",
   "execution_count": 20,
   "id": "bfd7711a",
   "metadata": {},
   "outputs": [
    {
     "data": {
      "text/html": [
       "<div>\n",
       "<style scoped>\n",
       "    .dataframe tbody tr th:only-of-type {\n",
       "        vertical-align: middle;\n",
       "    }\n",
       "\n",
       "    .dataframe tbody tr th {\n",
       "        vertical-align: top;\n",
       "    }\n",
       "\n",
       "    .dataframe thead th {\n",
       "        text-align: right;\n",
       "    }\n",
       "</style>\n",
       "<table border=\"1\" class=\"dataframe\">\n",
       "  <thead>\n",
       "    <tr style=\"text-align: right;\">\n",
       "      <th></th>\n",
       "      <th>NAME</th>\n",
       "      <th>SALARY</th>\n",
       "      <th>JOB TITLE</th>\n",
       "    </tr>\n",
       "  </thead>\n",
       "  <tbody>\n",
       "    <tr>\n",
       "      <th>info1:</th>\n",
       "      <td>jack</td>\n",
       "      <td>100k$</td>\n",
       "      <td>ML ENGINNER</td>\n",
       "    </tr>\n",
       "    <tr>\n",
       "      <th>info2:</th>\n",
       "      <td>smith</td>\n",
       "      <td>120k$</td>\n",
       "      <td>DATA SCIENTIST</td>\n",
       "    </tr>\n",
       "    <tr>\n",
       "      <th>info3:</th>\n",
       "      <td>hanson</td>\n",
       "      <td>150k$</td>\n",
       "      <td>AI SCIENTIST</td>\n",
       "    </tr>\n",
       "  </tbody>\n",
       "</table>\n",
       "</div>"
      ],
      "text/plain": [
       "          NAME SALARY       JOB TITLE\n",
       "info1:    jack  100k$     ML ENGINNER\n",
       "info2:   smith  120k$  DATA SCIENTIST\n",
       "info3:  hanson  150k$    AI SCIENTIST"
      ]
     },
     "execution_count": 20,
     "metadata": {},
     "output_type": "execute_result"
    }
   ],
   "source": [
    "panda[\"JOB TITLE\"]=panda[\"JOB TITLE\"].str.upper()\n",
    "panda"
   ]
  },
  {
   "cell_type": "code",
   "execution_count": 21,
   "id": "bf17e69d",
   "metadata": {},
   "outputs": [],
   "source": [
    "def udt_E(NAME):\n",
    "     return NAME.upper()"
   ]
  },
  {
   "cell_type": "code",
   "execution_count": 22,
   "id": "b97d0807",
   "metadata": {},
   "outputs": [
    {
     "data": {
      "text/plain": [
       "info1:      JACK\n",
       "info2:     SMITH\n",
       "info3:    HANSON\n",
       "Name: NAME, dtype: object"
      ]
     },
     "execution_count": 22,
     "metadata": {},
     "output_type": "execute_result"
    }
   ],
   "source": [
    "panda[\"NAME\"].apply(udt_E)"
   ]
  },
  {
   "cell_type": "code",
   "execution_count": 23,
   "id": "36dbded9",
   "metadata": {},
   "outputs": [
    {
     "data": {
      "text/plain": [
       "NAME         3\n",
       "SALARY       3\n",
       "JOB TITLE    3\n",
       "dtype: int64"
      ]
     },
     "execution_count": 23,
     "metadata": {},
     "output_type": "execute_result"
    }
   ],
   "source": [
    "panda.apply(len,axis=0)"
   ]
  },
  {
   "cell_type": "code",
   "execution_count": null,
   "id": "13c64856",
   "metadata": {},
   "outputs": [],
   "source": []
  },
  {
   "cell_type": "code",
   "execution_count": 24,
   "id": "eda66ca9",
   "metadata": {},
   "outputs": [
    {
     "data": {
      "text/plain": [
       "info1:    4\n",
       "info2:    5\n",
       "info3:    6\n",
       "Name: NAME, dtype: int64"
      ]
     },
     "execution_count": 24,
     "metadata": {},
     "output_type": "execute_result"
    }
   ],
   "source": [
    "panda[\"NAME\"].apply(len)"
   ]
  },
  {
   "cell_type": "code",
   "execution_count": 25,
   "id": "8294cee9",
   "metadata": {},
   "outputs": [
    {
     "data": {
      "text/plain": [
       "NAME         3\n",
       "SALARY       3\n",
       "JOB TITLE    3\n",
       "dtype: int64"
      ]
     },
     "execution_count": 25,
     "metadata": {},
     "output_type": "execute_result"
    }
   ],
   "source": [
    "panda.apply(len)"
   ]
  },
  {
   "cell_type": "code",
   "execution_count": 26,
   "id": "b44abd8c",
   "metadata": {},
   "outputs": [
    {
     "data": {
      "text/plain": [
       "'jack'"
      ]
     },
     "execution_count": 26,
     "metadata": {},
     "output_type": "execute_result"
    }
   ],
   "source": [
    "panda.iloc[0,0]"
   ]
  },
  {
   "cell_type": "code",
   "execution_count": 27,
   "id": "229e89fd",
   "metadata": {},
   "outputs": [
    {
     "data": {
      "text/plain": [
       "'ML ENGINNER'"
      ]
     },
     "execution_count": 27,
     "metadata": {},
     "output_type": "execute_result"
    }
   ],
   "source": [
    "panda.loc[\"info1:\",\"JOB TITLE\"]"
   ]
  },
  {
   "cell_type": "code",
   "execution_count": 28,
   "id": "efc39001",
   "metadata": {},
   "outputs": [
    {
     "data": {
      "text/html": [
       "<div>\n",
       "<style scoped>\n",
       "    .dataframe tbody tr th:only-of-type {\n",
       "        vertical-align: middle;\n",
       "    }\n",
       "\n",
       "    .dataframe tbody tr th {\n",
       "        vertical-align: top;\n",
       "    }\n",
       "\n",
       "    .dataframe thead th {\n",
       "        text-align: right;\n",
       "    }\n",
       "</style>\n",
       "<table border=\"1\" class=\"dataframe\">\n",
       "  <thead>\n",
       "    <tr style=\"text-align: right;\">\n",
       "      <th></th>\n",
       "      <th>NAME</th>\n",
       "      <th>SALARY</th>\n",
       "      <th>JOB TITLE</th>\n",
       "    </tr>\n",
       "  </thead>\n",
       "  <tbody>\n",
       "    <tr>\n",
       "      <th>info1:</th>\n",
       "      <td>jack</td>\n",
       "      <td>100k$</td>\n",
       "      <td>ML ENGINNER</td>\n",
       "    </tr>\n",
       "    <tr>\n",
       "      <th>info2:</th>\n",
       "      <td>smith</td>\n",
       "      <td>120k$</td>\n",
       "      <td>DATA SCIENTIST</td>\n",
       "    </tr>\n",
       "    <tr>\n",
       "      <th>info3:</th>\n",
       "      <td>hanson</td>\n",
       "      <td>150k$</td>\n",
       "      <td>AI SCIENTIST</td>\n",
       "    </tr>\n",
       "  </tbody>\n",
       "</table>\n",
       "</div>"
      ],
      "text/plain": [
       "          NAME SALARY       JOB TITLE\n",
       "info1:    jack  100k$     ML ENGINNER\n",
       "info2:   smith  120k$  DATA SCIENTIST\n",
       "info3:  hanson  150k$    AI SCIENTIST"
      ]
     },
     "execution_count": 28,
     "metadata": {},
     "output_type": "execute_result"
    }
   ],
   "source": [
    "panda"
   ]
  },
  {
   "cell_type": "code",
   "execution_count": 29,
   "id": "2aaa9f93",
   "metadata": {},
   "outputs": [],
   "source": [
    "panda[\"NAME\"]=panda[\"NAME\"].replace({\"jack\":\"Jackson\",\"smith\":\"Mike\"})"
   ]
  },
  {
   "cell_type": "code",
   "execution_count": 30,
   "id": "917f6d54",
   "metadata": {},
   "outputs": [
    {
     "data": {
      "text/html": [
       "<div>\n",
       "<style scoped>\n",
       "    .dataframe tbody tr th:only-of-type {\n",
       "        vertical-align: middle;\n",
       "    }\n",
       "\n",
       "    .dataframe tbody tr th {\n",
       "        vertical-align: top;\n",
       "    }\n",
       "\n",
       "    .dataframe thead th {\n",
       "        text-align: right;\n",
       "    }\n",
       "</style>\n",
       "<table border=\"1\" class=\"dataframe\">\n",
       "  <thead>\n",
       "    <tr style=\"text-align: right;\">\n",
       "      <th></th>\n",
       "      <th>NAME</th>\n",
       "      <th>SALARY</th>\n",
       "      <th>JOB TITLE</th>\n",
       "    </tr>\n",
       "  </thead>\n",
       "  <tbody>\n",
       "    <tr>\n",
       "      <th>info1:</th>\n",
       "      <td>Jackson</td>\n",
       "      <td>100k$</td>\n",
       "      <td>ML ENGINNER</td>\n",
       "    </tr>\n",
       "    <tr>\n",
       "      <th>info2:</th>\n",
       "      <td>Mike</td>\n",
       "      <td>120k$</td>\n",
       "      <td>DATA SCIENTIST</td>\n",
       "    </tr>\n",
       "    <tr>\n",
       "      <th>info3:</th>\n",
       "      <td>hanson</td>\n",
       "      <td>150k$</td>\n",
       "      <td>AI SCIENTIST</td>\n",
       "    </tr>\n",
       "  </tbody>\n",
       "</table>\n",
       "</div>"
      ],
      "text/plain": [
       "           NAME SALARY       JOB TITLE\n",
       "info1:  Jackson  100k$     ML ENGINNER\n",
       "info2:     Mike  120k$  DATA SCIENTIST\n",
       "info3:   hanson  150k$    AI SCIENTIST"
      ]
     },
     "execution_count": 30,
     "metadata": {},
     "output_type": "execute_result"
    }
   ],
   "source": [
    "panda"
   ]
  },
  {
   "cell_type": "code",
   "execution_count": 31,
   "id": "6ffb737d",
   "metadata": {},
   "outputs": [],
   "source": [
    "panda.rename(columns={\"SALARY\":\"Money\",\"JOB TITLE\":\"Ocupation\"},inplace=True)"
   ]
  },
  {
   "cell_type": "code",
   "execution_count": 32,
   "id": "af97ff2a",
   "metadata": {},
   "outputs": [
    {
     "data": {
      "text/html": [
       "<div>\n",
       "<style scoped>\n",
       "    .dataframe tbody tr th:only-of-type {\n",
       "        vertical-align: middle;\n",
       "    }\n",
       "\n",
       "    .dataframe tbody tr th {\n",
       "        vertical-align: top;\n",
       "    }\n",
       "\n",
       "    .dataframe thead th {\n",
       "        text-align: right;\n",
       "    }\n",
       "</style>\n",
       "<table border=\"1\" class=\"dataframe\">\n",
       "  <thead>\n",
       "    <tr style=\"text-align: right;\">\n",
       "      <th></th>\n",
       "      <th>NAME</th>\n",
       "      <th>Money</th>\n",
       "      <th>Ocupation</th>\n",
       "    </tr>\n",
       "  </thead>\n",
       "  <tbody>\n",
       "    <tr>\n",
       "      <th>info1:</th>\n",
       "      <td>Jackson</td>\n",
       "      <td>100k$</td>\n",
       "      <td>ML ENGINNER</td>\n",
       "    </tr>\n",
       "    <tr>\n",
       "      <th>info2:</th>\n",
       "      <td>Mike</td>\n",
       "      <td>120k$</td>\n",
       "      <td>DATA SCIENTIST</td>\n",
       "    </tr>\n",
       "    <tr>\n",
       "      <th>info3:</th>\n",
       "      <td>hanson</td>\n",
       "      <td>150k$</td>\n",
       "      <td>AI SCIENTIST</td>\n",
       "    </tr>\n",
       "  </tbody>\n",
       "</table>\n",
       "</div>"
      ],
      "text/plain": [
       "           NAME  Money       Ocupation\n",
       "info1:  Jackson  100k$     ML ENGINNER\n",
       "info2:     Mike  120k$  DATA SCIENTIST\n",
       "info3:   hanson  150k$    AI SCIENTIST"
      ]
     },
     "execution_count": 32,
     "metadata": {},
     "output_type": "execute_result"
    }
   ],
   "source": [
    "panda"
   ]
  },
  {
   "cell_type": "code",
   "execution_count": null,
   "id": "40c2dfff",
   "metadata": {},
   "outputs": [],
   "source": []
  },
  {
   "cell_type": "markdown",
   "id": "ad3f44db",
   "metadata": {},
   "source": [
    "#### Drop"
   ]
  },
  {
   "cell_type": "code",
   "execution_count": 33,
   "id": "a9665f88",
   "metadata": {},
   "outputs": [
    {
     "data": {
      "text/html": [
       "<div>\n",
       "<style scoped>\n",
       "    .dataframe tbody tr th:only-of-type {\n",
       "        vertical-align: middle;\n",
       "    }\n",
       "\n",
       "    .dataframe tbody tr th {\n",
       "        vertical-align: top;\n",
       "    }\n",
       "\n",
       "    .dataframe thead th {\n",
       "        text-align: right;\n",
       "    }\n",
       "</style>\n",
       "<table border=\"1\" class=\"dataframe\">\n",
       "  <thead>\n",
       "    <tr style=\"text-align: right;\">\n",
       "      <th></th>\n",
       "      <th>NAME</th>\n",
       "      <th>Ocupation</th>\n",
       "    </tr>\n",
       "  </thead>\n",
       "  <tbody>\n",
       "    <tr>\n",
       "      <th>info1:</th>\n",
       "      <td>Jackson</td>\n",
       "      <td>ML ENGINNER</td>\n",
       "    </tr>\n",
       "    <tr>\n",
       "      <th>info2:</th>\n",
       "      <td>Mike</td>\n",
       "      <td>DATA SCIENTIST</td>\n",
       "    </tr>\n",
       "    <tr>\n",
       "      <th>info3:</th>\n",
       "      <td>hanson</td>\n",
       "      <td>AI SCIENTIST</td>\n",
       "    </tr>\n",
       "  </tbody>\n",
       "</table>\n",
       "</div>"
      ],
      "text/plain": [
       "           NAME       Ocupation\n",
       "info1:  Jackson     ML ENGINNER\n",
       "info2:     Mike  DATA SCIENTIST\n",
       "info3:   hanson    AI SCIENTIST"
      ]
     },
     "execution_count": 33,
     "metadata": {},
     "output_type": "execute_result"
    }
   ],
   "source": [
    "panda.drop(\"Money\",axis=1)\n",
    "\n"
   ]
  },
  {
   "cell_type": "code",
   "execution_count": 34,
   "id": "6e1feba1",
   "metadata": {},
   "outputs": [
    {
     "data": {
      "text/html": [
       "<div>\n",
       "<style scoped>\n",
       "    .dataframe tbody tr th:only-of-type {\n",
       "        vertical-align: middle;\n",
       "    }\n",
       "\n",
       "    .dataframe tbody tr th {\n",
       "        vertical-align: top;\n",
       "    }\n",
       "\n",
       "    .dataframe thead th {\n",
       "        text-align: right;\n",
       "    }\n",
       "</style>\n",
       "<table border=\"1\" class=\"dataframe\">\n",
       "  <thead>\n",
       "    <tr style=\"text-align: right;\">\n",
       "      <th></th>\n",
       "      <th>NAME</th>\n",
       "      <th>Money</th>\n",
       "      <th>Ocupation</th>\n",
       "    </tr>\n",
       "  </thead>\n",
       "  <tbody>\n",
       "    <tr>\n",
       "      <th>info1:</th>\n",
       "      <td>Jackson</td>\n",
       "      <td>100k$</td>\n",
       "      <td>ML ENGINNER</td>\n",
       "    </tr>\n",
       "    <tr>\n",
       "      <th>info2:</th>\n",
       "      <td>Mike</td>\n",
       "      <td>120k$</td>\n",
       "      <td>DATA SCIENTIST</td>\n",
       "    </tr>\n",
       "    <tr>\n",
       "      <th>info3:</th>\n",
       "      <td>hanson</td>\n",
       "      <td>150k$</td>\n",
       "      <td>AI SCIENTIST</td>\n",
       "    </tr>\n",
       "  </tbody>\n",
       "</table>\n",
       "</div>"
      ],
      "text/plain": [
       "           NAME  Money       Ocupation\n",
       "info1:  Jackson  100k$     ML ENGINNER\n",
       "info2:     Mike  120k$  DATA SCIENTIST\n",
       "info3:   hanson  150k$    AI SCIENTIST"
      ]
     },
     "execution_count": 34,
     "metadata": {},
     "output_type": "execute_result"
    }
   ],
   "source": [
    "panda"
   ]
  },
  {
   "cell_type": "code",
   "execution_count": 35,
   "id": "2ae36622",
   "metadata": {},
   "outputs": [],
   "source": [
    "panda=panda.drop(\"NAME\",axis=1)\n"
   ]
  },
  {
   "cell_type": "code",
   "execution_count": 36,
   "id": "9b395e52",
   "metadata": {},
   "outputs": [
    {
     "data": {
      "text/html": [
       "<div>\n",
       "<style scoped>\n",
       "    .dataframe tbody tr th:only-of-type {\n",
       "        vertical-align: middle;\n",
       "    }\n",
       "\n",
       "    .dataframe tbody tr th {\n",
       "        vertical-align: top;\n",
       "    }\n",
       "\n",
       "    .dataframe thead th {\n",
       "        text-align: right;\n",
       "    }\n",
       "</style>\n",
       "<table border=\"1\" class=\"dataframe\">\n",
       "  <thead>\n",
       "    <tr style=\"text-align: right;\">\n",
       "      <th></th>\n",
       "      <th>Money</th>\n",
       "      <th>Ocupation</th>\n",
       "    </tr>\n",
       "  </thead>\n",
       "  <tbody>\n",
       "    <tr>\n",
       "      <th>info1:</th>\n",
       "      <td>100k$</td>\n",
       "      <td>ML ENGINNER</td>\n",
       "    </tr>\n",
       "    <tr>\n",
       "      <th>info2:</th>\n",
       "      <td>120k$</td>\n",
       "      <td>DATA SCIENTIST</td>\n",
       "    </tr>\n",
       "    <tr>\n",
       "      <th>info3:</th>\n",
       "      <td>150k$</td>\n",
       "      <td>AI SCIENTIST</td>\n",
       "    </tr>\n",
       "  </tbody>\n",
       "</table>\n",
       "</div>"
      ],
      "text/plain": [
       "        Money       Ocupation\n",
       "info1:  100k$     ML ENGINNER\n",
       "info2:  120k$  DATA SCIENTIST\n",
       "info3:  150k$    AI SCIENTIST"
      ]
     },
     "execution_count": 36,
     "metadata": {},
     "output_type": "execute_result"
    }
   ],
   "source": [
    "panda"
   ]
  },
  {
   "cell_type": "markdown",
   "id": "e09a28d5",
   "metadata": {},
   "source": [
    "#### Change in CSV "
   ]
  },
  {
   "cell_type": "code",
   "execution_count": 37,
   "id": "f8902870",
   "metadata": {},
   "outputs": [],
   "source": [
    "df=panda.to_csv(\"Employee.csv\")\n",
    "(df)"
   ]
  },
  {
   "cell_type": "code",
   "execution_count": 38,
   "id": "9e29f066",
   "metadata": {},
   "outputs": [],
   "source": [
    "emp=panda.to_csv(\"Employee1.csv\",index=False)\n",
    "emp"
   ]
  },
  {
   "cell_type": "code",
   "execution_count": 39,
   "id": "51d6719d",
   "metadata": {},
   "outputs": [],
   "source": [
    "random_num=panda.to_csv(\"Random.csv\",index=False)\n",
    "random_num"
   ]
  },
  {
   "cell_type": "markdown",
   "id": "c5dfcc57",
   "metadata": {},
   "source": [
    "#### Set Index"
   ]
  },
  {
   "cell_type": "code",
   "execution_count": 40,
   "id": "038e1357",
   "metadata": {},
   "outputs": [
    {
     "data": {
      "text/html": [
       "<div>\n",
       "<style scoped>\n",
       "    .dataframe tbody tr th:only-of-type {\n",
       "        vertical-align: middle;\n",
       "    }\n",
       "\n",
       "    .dataframe tbody tr th {\n",
       "        vertical-align: top;\n",
       "    }\n",
       "\n",
       "    .dataframe thead th {\n",
       "        text-align: right;\n",
       "    }\n",
       "</style>\n",
       "<table border=\"1\" class=\"dataframe\">\n",
       "  <thead>\n",
       "    <tr style=\"text-align: right;\">\n",
       "      <th></th>\n",
       "      <th>NAME</th>\n",
       "      <th>SALARY</th>\n",
       "      <th>JOB TITLE</th>\n",
       "    </tr>\n",
       "  </thead>\n",
       "  <tbody>\n",
       "    <tr>\n",
       "      <th>info1:</th>\n",
       "      <td>Jack</td>\n",
       "      <td>100k$</td>\n",
       "      <td>ML enginner</td>\n",
       "    </tr>\n",
       "    <tr>\n",
       "      <th>info2:</th>\n",
       "      <td>Bob</td>\n",
       "      <td>120k$</td>\n",
       "      <td>MLops engineer</td>\n",
       "    </tr>\n",
       "    <tr>\n",
       "      <th>info3:</th>\n",
       "      <td>Hanson</td>\n",
       "      <td>150k$</td>\n",
       "      <td>AI scientist</td>\n",
       "    </tr>\n",
       "  </tbody>\n",
       "</table>\n",
       "</div>"
      ],
      "text/plain": [
       "          NAME SALARY       JOB TITLE\n",
       "info1:    Jack  100k$     ML enginner\n",
       "info2:     Bob  120k$  MLops engineer\n",
       "info3:  Hanson  150k$    AI scientist"
      ]
     },
     "execution_count": 40,
     "metadata": {},
     "output_type": "execute_result"
    }
   ],
   "source": [
    "dic={\"NAME\":[\"Jack\",\"Bob\",\"Hanson\"],\"SALARY\":[\"100k$\",\"120k$\",\"150k$\"],\"JOB TITLE\":[\"ML enginner\",\"MLops engineer\",\"AI scientist\"]}\n",
    "panda=pd.DataFrame(dic,index=[\"info1:\",\"info2:\",\"info3:\"])\n",
    "(panda)"
   ]
  },
  {
   "cell_type": "code",
   "execution_count": 41,
   "id": "7b1330c3",
   "metadata": {},
   "outputs": [],
   "source": [
    "panda.set_index(\"NAME\",inplace= True)\n"
   ]
  },
  {
   "cell_type": "code",
   "execution_count": 42,
   "id": "64b1e754",
   "metadata": {},
   "outputs": [
    {
     "data": {
      "text/html": [
       "<div>\n",
       "<style scoped>\n",
       "    .dataframe tbody tr th:only-of-type {\n",
       "        vertical-align: middle;\n",
       "    }\n",
       "\n",
       "    .dataframe tbody tr th {\n",
       "        vertical-align: top;\n",
       "    }\n",
       "\n",
       "    .dataframe thead th {\n",
       "        text-align: right;\n",
       "    }\n",
       "</style>\n",
       "<table border=\"1\" class=\"dataframe\">\n",
       "  <thead>\n",
       "    <tr style=\"text-align: right;\">\n",
       "      <th></th>\n",
       "      <th>SALARY</th>\n",
       "      <th>JOB TITLE</th>\n",
       "    </tr>\n",
       "    <tr>\n",
       "      <th>NAME</th>\n",
       "      <th></th>\n",
       "      <th></th>\n",
       "    </tr>\n",
       "  </thead>\n",
       "  <tbody>\n",
       "    <tr>\n",
       "      <th>Jack</th>\n",
       "      <td>100k$</td>\n",
       "      <td>ML enginner</td>\n",
       "    </tr>\n",
       "    <tr>\n",
       "      <th>Bob</th>\n",
       "      <td>120k$</td>\n",
       "      <td>MLops engineer</td>\n",
       "    </tr>\n",
       "    <tr>\n",
       "      <th>Hanson</th>\n",
       "      <td>150k$</td>\n",
       "      <td>AI scientist</td>\n",
       "    </tr>\n",
       "  </tbody>\n",
       "</table>\n",
       "</div>"
      ],
      "text/plain": [
       "       SALARY       JOB TITLE\n",
       "NAME                         \n",
       "Jack    100k$     ML enginner\n",
       "Bob     120k$  MLops engineer\n",
       "Hanson  150k$    AI scientist"
      ]
     },
     "execution_count": 42,
     "metadata": {},
     "output_type": "execute_result"
    }
   ],
   "source": [
    "panda"
   ]
  },
  {
   "cell_type": "code",
   "execution_count": 43,
   "id": "36a7e197",
   "metadata": {},
   "outputs": [
    {
     "data": {
      "text/plain": [
       "NAME\n",
       "Jack      100k$\n",
       "Bob       120k$\n",
       "Hanson    150k$\n",
       "Name: SALARY, dtype: object"
      ]
     },
     "execution_count": 43,
     "metadata": {},
     "output_type": "execute_result"
    }
   ],
   "source": [
    "panda.SALARY"
   ]
  },
  {
   "cell_type": "code",
   "execution_count": 44,
   "id": "749ab373",
   "metadata": {},
   "outputs": [
    {
     "data": {
      "text/plain": [
       "'100k$'"
      ]
     },
     "execution_count": 44,
     "metadata": {},
     "output_type": "execute_result"
    }
   ],
   "source": [
    "panda[\"SALARY\"][\"Jack\"]"
   ]
  },
  {
   "cell_type": "code",
   "execution_count": 45,
   "id": "ac47a207",
   "metadata": {},
   "outputs": [],
   "source": [
    "panda[\"JOB TITLE\"]=panda[\"JOB TITLE\"].str.lower()"
   ]
  },
  {
   "cell_type": "code",
   "execution_count": 46,
   "id": "5697af72",
   "metadata": {},
   "outputs": [
    {
     "data": {
      "text/html": [
       "<div>\n",
       "<style scoped>\n",
       "    .dataframe tbody tr th:only-of-type {\n",
       "        vertical-align: middle;\n",
       "    }\n",
       "\n",
       "    .dataframe tbody tr th {\n",
       "        vertical-align: top;\n",
       "    }\n",
       "\n",
       "    .dataframe thead th {\n",
       "        text-align: right;\n",
       "    }\n",
       "</style>\n",
       "<table border=\"1\" class=\"dataframe\">\n",
       "  <thead>\n",
       "    <tr style=\"text-align: right;\">\n",
       "      <th></th>\n",
       "      <th>SALARY</th>\n",
       "      <th>JOB TITLE</th>\n",
       "    </tr>\n",
       "    <tr>\n",
       "      <th>NAME</th>\n",
       "      <th></th>\n",
       "      <th></th>\n",
       "    </tr>\n",
       "  </thead>\n",
       "  <tbody>\n",
       "    <tr>\n",
       "      <th>Jack</th>\n",
       "      <td>100k$</td>\n",
       "      <td>ml enginner</td>\n",
       "    </tr>\n",
       "    <tr>\n",
       "      <th>Bob</th>\n",
       "      <td>120k$</td>\n",
       "      <td>mlops engineer</td>\n",
       "    </tr>\n",
       "    <tr>\n",
       "      <th>Hanson</th>\n",
       "      <td>150k$</td>\n",
       "      <td>ai scientist</td>\n",
       "    </tr>\n",
       "  </tbody>\n",
       "</table>\n",
       "</div>"
      ],
      "text/plain": [
       "       SALARY       JOB TITLE\n",
       "NAME                         \n",
       "Jack    100k$     ml enginner\n",
       "Bob     120k$  mlops engineer\n",
       "Hanson  150k$    ai scientist"
      ]
     },
     "execution_count": 46,
     "metadata": {},
     "output_type": "execute_result"
    }
   ],
   "source": [
    "panda"
   ]
  },
  {
   "cell_type": "code",
   "execution_count": 47,
   "id": "94cd1883",
   "metadata": {},
   "outputs": [
    {
     "data": {
      "text/html": [
       "<div>\n",
       "<style scoped>\n",
       "    .dataframe tbody tr th:only-of-type {\n",
       "        vertical-align: middle;\n",
       "    }\n",
       "\n",
       "    .dataframe tbody tr th {\n",
       "        vertical-align: top;\n",
       "    }\n",
       "\n",
       "    .dataframe thead th {\n",
       "        text-align: right;\n",
       "    }\n",
       "</style>\n",
       "<table border=\"1\" class=\"dataframe\">\n",
       "  <thead>\n",
       "    <tr style=\"text-align: right;\">\n",
       "      <th></th>\n",
       "      <th>Pregnancies</th>\n",
       "      <th>Glucose</th>\n",
       "      <th>BloodPressure</th>\n",
       "      <th>SkinThickness</th>\n",
       "      <th>Insulin</th>\n",
       "      <th>BMI</th>\n",
       "      <th>DiabetesPedigreeFunction</th>\n",
       "      <th>Age</th>\n",
       "      <th>Outcome</th>\n",
       "    </tr>\n",
       "  </thead>\n",
       "  <tbody>\n",
       "    <tr>\n",
       "      <th>0</th>\n",
       "      <td>6</td>\n",
       "      <td>148.0</td>\n",
       "      <td>72</td>\n",
       "      <td>35</td>\n",
       "      <td>NaN</td>\n",
       "      <td>33.6</td>\n",
       "      <td>0.627</td>\n",
       "      <td>50</td>\n",
       "      <td>1</td>\n",
       "    </tr>\n",
       "    <tr>\n",
       "      <th>1</th>\n",
       "      <td>1</td>\n",
       "      <td>85.0</td>\n",
       "      <td>66</td>\n",
       "      <td>29</td>\n",
       "      <td>NaN</td>\n",
       "      <td>26.6</td>\n",
       "      <td>0.351</td>\n",
       "      <td>31</td>\n",
       "      <td>0</td>\n",
       "    </tr>\n",
       "    <tr>\n",
       "      <th>2</th>\n",
       "      <td>8</td>\n",
       "      <td>NaN</td>\n",
       "      <td>64</td>\n",
       "      <td>0</td>\n",
       "      <td>NaN</td>\n",
       "      <td>23.3</td>\n",
       "      <td>0.672</td>\n",
       "      <td>32</td>\n",
       "      <td>1</td>\n",
       "    </tr>\n",
       "    <tr>\n",
       "      <th>3</th>\n",
       "      <td>1</td>\n",
       "      <td>NaN</td>\n",
       "      <td>66</td>\n",
       "      <td>23</td>\n",
       "      <td>94.0</td>\n",
       "      <td>28.1</td>\n",
       "      <td>0.167</td>\n",
       "      <td>21</td>\n",
       "      <td>0</td>\n",
       "    </tr>\n",
       "    <tr>\n",
       "      <th>4</th>\n",
       "      <td>0</td>\n",
       "      <td>NaN</td>\n",
       "      <td>40</td>\n",
       "      <td>35</td>\n",
       "      <td>168.0</td>\n",
       "      <td>43.1</td>\n",
       "      <td>NaN</td>\n",
       "      <td>33</td>\n",
       "      <td>1</td>\n",
       "    </tr>\n",
       "    <tr>\n",
       "      <th>...</th>\n",
       "      <td>...</td>\n",
       "      <td>...</td>\n",
       "      <td>...</td>\n",
       "      <td>...</td>\n",
       "      <td>...</td>\n",
       "      <td>...</td>\n",
       "      <td>...</td>\n",
       "      <td>...</td>\n",
       "      <td>...</td>\n",
       "    </tr>\n",
       "    <tr>\n",
       "      <th>763</th>\n",
       "      <td>10</td>\n",
       "      <td>101.0</td>\n",
       "      <td>76</td>\n",
       "      <td>48</td>\n",
       "      <td>180.0</td>\n",
       "      <td>32.9</td>\n",
       "      <td>0.171</td>\n",
       "      <td>63</td>\n",
       "      <td>0</td>\n",
       "    </tr>\n",
       "    <tr>\n",
       "      <th>764</th>\n",
       "      <td>2</td>\n",
       "      <td>122.0</td>\n",
       "      <td>70</td>\n",
       "      <td>27</td>\n",
       "      <td>0.0</td>\n",
       "      <td>36.8</td>\n",
       "      <td>0.340</td>\n",
       "      <td>27</td>\n",
       "      <td>0</td>\n",
       "    </tr>\n",
       "    <tr>\n",
       "      <th>765</th>\n",
       "      <td>5</td>\n",
       "      <td>121.0</td>\n",
       "      <td>72</td>\n",
       "      <td>23</td>\n",
       "      <td>112.0</td>\n",
       "      <td>26.2</td>\n",
       "      <td>0.245</td>\n",
       "      <td>30</td>\n",
       "      <td>0</td>\n",
       "    </tr>\n",
       "    <tr>\n",
       "      <th>766</th>\n",
       "      <td>1</td>\n",
       "      <td>126.0</td>\n",
       "      <td>60</td>\n",
       "      <td>0</td>\n",
       "      <td>0.0</td>\n",
       "      <td>30.1</td>\n",
       "      <td>0.349</td>\n",
       "      <td>47</td>\n",
       "      <td>1</td>\n",
       "    </tr>\n",
       "    <tr>\n",
       "      <th>767</th>\n",
       "      <td>1</td>\n",
       "      <td>93.0</td>\n",
       "      <td>70</td>\n",
       "      <td>31</td>\n",
       "      <td>0.0</td>\n",
       "      <td>30.4</td>\n",
       "      <td>0.315</td>\n",
       "      <td>23</td>\n",
       "      <td>0</td>\n",
       "    </tr>\n",
       "  </tbody>\n",
       "</table>\n",
       "<p>768 rows × 9 columns</p>\n",
       "</div>"
      ],
      "text/plain": [
       "     Pregnancies  Glucose  BloodPressure SkinThickness  Insulin   BMI  \\\n",
       "0              6    148.0             72            35      NaN  33.6   \n",
       "1              1     85.0             66            29      NaN  26.6   \n",
       "2              8      NaN             64             0      NaN  23.3   \n",
       "3              1      NaN             66            23     94.0  28.1   \n",
       "4              0      NaN             40            35    168.0  43.1   \n",
       "..           ...      ...            ...           ...      ...   ...   \n",
       "763           10    101.0             76            48    180.0  32.9   \n",
       "764            2    122.0             70            27      0.0  36.8   \n",
       "765            5    121.0             72            23    112.0  26.2   \n",
       "766            1    126.0             60             0      0.0  30.1   \n",
       "767            1     93.0             70            31      0.0  30.4   \n",
       "\n",
       "     DiabetesPedigreeFunction  Age  Outcome  \n",
       "0                       0.627   50        1  \n",
       "1                       0.351   31        0  \n",
       "2                       0.672   32        1  \n",
       "3                       0.167   21        0  \n",
       "4                         NaN   33        1  \n",
       "..                        ...  ...      ...  \n",
       "763                     0.171   63        0  \n",
       "764                     0.340   27        0  \n",
       "765                     0.245   30        0  \n",
       "766                     0.349   47        1  \n",
       "767                     0.315   23        0  \n",
       "\n",
       "[768 rows x 9 columns]"
      ]
     },
     "execution_count": 47,
     "metadata": {},
     "output_type": "execute_result"
    }
   ],
   "source": [
    "x=pd.read_csv('diabetes.csv')\n",
    "(x)"
   ]
  },
  {
   "cell_type": "code",
   "execution_count": 48,
   "id": "86bc05b3",
   "metadata": {},
   "outputs": [
    {
     "data": {
      "text/plain": [
       "0      1128.96\n",
       "1       707.56\n",
       "2       542.89\n",
       "3       789.61\n",
       "4      1857.61\n",
       "        ...   \n",
       "763    1082.41\n",
       "764    1354.24\n",
       "765     686.44\n",
       "766     906.01\n",
       "767     924.16\n",
       "Name: BMI, Length: 768, dtype: float64"
      ]
     },
     "execution_count": 48,
     "metadata": {},
     "output_type": "execute_result"
    }
   ],
   "source": [
    "x[\"BMI\"].map(lambda x:x**2)"
   ]
  },
  {
   "cell_type": "code",
   "execution_count": null,
   "id": "e71dca2d",
   "metadata": {},
   "outputs": [],
   "source": []
  },
  {
   "cell_type": "code",
   "execution_count": 49,
   "id": "573aa783",
   "metadata": {},
   "outputs": [
    {
     "data": {
      "text/html": [
       "<div>\n",
       "<style scoped>\n",
       "    .dataframe tbody tr th:only-of-type {\n",
       "        vertical-align: middle;\n",
       "    }\n",
       "\n",
       "    .dataframe tbody tr th {\n",
       "        vertical-align: top;\n",
       "    }\n",
       "\n",
       "    .dataframe thead th {\n",
       "        text-align: right;\n",
       "    }\n",
       "</style>\n",
       "<table border=\"1\" class=\"dataframe\">\n",
       "  <thead>\n",
       "    <tr style=\"text-align: right;\">\n",
       "      <th></th>\n",
       "      <th>Pregnancies</th>\n",
       "      <th>Glucose</th>\n",
       "      <th>BloodPressure</th>\n",
       "      <th>SkinThickness</th>\n",
       "      <th>Insulin</th>\n",
       "      <th>DiabetesPedigreeFunction</th>\n",
       "      <th>Age</th>\n",
       "      <th>Outcome</th>\n",
       "    </tr>\n",
       "    <tr>\n",
       "      <th>BMI</th>\n",
       "      <th></th>\n",
       "      <th></th>\n",
       "      <th></th>\n",
       "      <th></th>\n",
       "      <th></th>\n",
       "      <th></th>\n",
       "      <th></th>\n",
       "      <th></th>\n",
       "    </tr>\n",
       "  </thead>\n",
       "  <tbody>\n",
       "    <tr>\n",
       "      <th>33.6</th>\n",
       "      <td>6</td>\n",
       "      <td>148.0</td>\n",
       "      <td>72</td>\n",
       "      <td>35</td>\n",
       "      <td>NaN</td>\n",
       "      <td>0.627</td>\n",
       "      <td>50</td>\n",
       "      <td>1</td>\n",
       "    </tr>\n",
       "    <tr>\n",
       "      <th>26.6</th>\n",
       "      <td>1</td>\n",
       "      <td>85.0</td>\n",
       "      <td>66</td>\n",
       "      <td>29</td>\n",
       "      <td>NaN</td>\n",
       "      <td>0.351</td>\n",
       "      <td>31</td>\n",
       "      <td>0</td>\n",
       "    </tr>\n",
       "    <tr>\n",
       "      <th>23.3</th>\n",
       "      <td>8</td>\n",
       "      <td>NaN</td>\n",
       "      <td>64</td>\n",
       "      <td>0</td>\n",
       "      <td>NaN</td>\n",
       "      <td>0.672</td>\n",
       "      <td>32</td>\n",
       "      <td>1</td>\n",
       "    </tr>\n",
       "    <tr>\n",
       "      <th>28.1</th>\n",
       "      <td>1</td>\n",
       "      <td>NaN</td>\n",
       "      <td>66</td>\n",
       "      <td>23</td>\n",
       "      <td>94.0</td>\n",
       "      <td>0.167</td>\n",
       "      <td>21</td>\n",
       "      <td>0</td>\n",
       "    </tr>\n",
       "    <tr>\n",
       "      <th>43.1</th>\n",
       "      <td>0</td>\n",
       "      <td>NaN</td>\n",
       "      <td>40</td>\n",
       "      <td>35</td>\n",
       "      <td>168.0</td>\n",
       "      <td>NaN</td>\n",
       "      <td>33</td>\n",
       "      <td>1</td>\n",
       "    </tr>\n",
       "    <tr>\n",
       "      <th>...</th>\n",
       "      <td>...</td>\n",
       "      <td>...</td>\n",
       "      <td>...</td>\n",
       "      <td>...</td>\n",
       "      <td>...</td>\n",
       "      <td>...</td>\n",
       "      <td>...</td>\n",
       "      <td>...</td>\n",
       "    </tr>\n",
       "    <tr>\n",
       "      <th>32.9</th>\n",
       "      <td>10</td>\n",
       "      <td>101.0</td>\n",
       "      <td>76</td>\n",
       "      <td>48</td>\n",
       "      <td>180.0</td>\n",
       "      <td>0.171</td>\n",
       "      <td>63</td>\n",
       "      <td>0</td>\n",
       "    </tr>\n",
       "    <tr>\n",
       "      <th>36.8</th>\n",
       "      <td>2</td>\n",
       "      <td>122.0</td>\n",
       "      <td>70</td>\n",
       "      <td>27</td>\n",
       "      <td>0.0</td>\n",
       "      <td>0.340</td>\n",
       "      <td>27</td>\n",
       "      <td>0</td>\n",
       "    </tr>\n",
       "    <tr>\n",
       "      <th>26.2</th>\n",
       "      <td>5</td>\n",
       "      <td>121.0</td>\n",
       "      <td>72</td>\n",
       "      <td>23</td>\n",
       "      <td>112.0</td>\n",
       "      <td>0.245</td>\n",
       "      <td>30</td>\n",
       "      <td>0</td>\n",
       "    </tr>\n",
       "    <tr>\n",
       "      <th>30.1</th>\n",
       "      <td>1</td>\n",
       "      <td>126.0</td>\n",
       "      <td>60</td>\n",
       "      <td>0</td>\n",
       "      <td>0.0</td>\n",
       "      <td>0.349</td>\n",
       "      <td>47</td>\n",
       "      <td>1</td>\n",
       "    </tr>\n",
       "    <tr>\n",
       "      <th>30.4</th>\n",
       "      <td>1</td>\n",
       "      <td>93.0</td>\n",
       "      <td>70</td>\n",
       "      <td>31</td>\n",
       "      <td>0.0</td>\n",
       "      <td>0.315</td>\n",
       "      <td>23</td>\n",
       "      <td>0</td>\n",
       "    </tr>\n",
       "  </tbody>\n",
       "</table>\n",
       "<p>768 rows × 8 columns</p>\n",
       "</div>"
      ],
      "text/plain": [
       "      Pregnancies  Glucose  BloodPressure SkinThickness  Insulin  \\\n",
       "BMI                                                                \n",
       "33.6            6    148.0             72            35      NaN   \n",
       "26.6            1     85.0             66            29      NaN   \n",
       "23.3            8      NaN             64             0      NaN   \n",
       "28.1            1      NaN             66            23     94.0   \n",
       "43.1            0      NaN             40            35    168.0   \n",
       "...           ...      ...            ...           ...      ...   \n",
       "32.9           10    101.0             76            48    180.0   \n",
       "36.8            2    122.0             70            27      0.0   \n",
       "26.2            5    121.0             72            23    112.0   \n",
       "30.1            1    126.0             60             0      0.0   \n",
       "30.4            1     93.0             70            31      0.0   \n",
       "\n",
       "      DiabetesPedigreeFunction  Age  Outcome  \n",
       "BMI                                           \n",
       "33.6                     0.627   50        1  \n",
       "26.6                     0.351   31        0  \n",
       "23.3                     0.672   32        1  \n",
       "28.1                     0.167   21        0  \n",
       "43.1                       NaN   33        1  \n",
       "...                        ...  ...      ...  \n",
       "32.9                     0.171   63        0  \n",
       "36.8                     0.340   27        0  \n",
       "26.2                     0.245   30        0  \n",
       "30.1                     0.349   47        1  \n",
       "30.4                     0.315   23        0  \n",
       "\n",
       "[768 rows x 8 columns]"
      ]
     },
     "execution_count": 49,
     "metadata": {},
     "output_type": "execute_result"
    }
   ],
   "source": [
    "df=x.set_index(\"BMI\")\n",
    "df"
   ]
  },
  {
   "cell_type": "code",
   "execution_count": 50,
   "id": "fbb8d289",
   "metadata": {},
   "outputs": [
    {
     "data": {
      "text/html": [
       "<div>\n",
       "<style scoped>\n",
       "    .dataframe tbody tr th:only-of-type {\n",
       "        vertical-align: middle;\n",
       "    }\n",
       "\n",
       "    .dataframe tbody tr th {\n",
       "        vertical-align: top;\n",
       "    }\n",
       "\n",
       "    .dataframe thead th {\n",
       "        text-align: right;\n",
       "    }\n",
       "</style>\n",
       "<table border=\"1\" class=\"dataframe\">\n",
       "  <thead>\n",
       "    <tr style=\"text-align: right;\">\n",
       "      <th></th>\n",
       "      <th>Pregnancies</th>\n",
       "      <th>Glucose</th>\n",
       "      <th>BloodPressure</th>\n",
       "      <th>SkinThickness</th>\n",
       "      <th>Insulin</th>\n",
       "      <th>DiabetesPedigreeFunction</th>\n",
       "      <th>Age</th>\n",
       "      <th>Outcome</th>\n",
       "    </tr>\n",
       "    <tr>\n",
       "      <th>BMI</th>\n",
       "      <th></th>\n",
       "      <th></th>\n",
       "      <th></th>\n",
       "      <th></th>\n",
       "      <th></th>\n",
       "      <th></th>\n",
       "      <th></th>\n",
       "      <th></th>\n",
       "    </tr>\n",
       "  </thead>\n",
       "  <tbody>\n",
       "    <tr>\n",
       "      <th>0.0</th>\n",
       "      <td>0</td>\n",
       "      <td>102.0</td>\n",
       "      <td>75</td>\n",
       "      <td>23</td>\n",
       "      <td>0.0</td>\n",
       "      <td>0.572</td>\n",
       "      <td>21</td>\n",
       "      <td>0</td>\n",
       "    </tr>\n",
       "    <tr>\n",
       "      <th>0.0</th>\n",
       "      <td>10</td>\n",
       "      <td>115.0</td>\n",
       "      <td>0</td>\n",
       "      <td>0</td>\n",
       "      <td>0.0</td>\n",
       "      <td>0.261</td>\n",
       "      <td>30</td>\n",
       "      <td>1</td>\n",
       "    </tr>\n",
       "    <tr>\n",
       "      <th>0.0</th>\n",
       "      <td>6</td>\n",
       "      <td>114.0</td>\n",
       "      <td>0</td>\n",
       "      <td>0</td>\n",
       "      <td>0.0</td>\n",
       "      <td>0.189</td>\n",
       "      <td>26</td>\n",
       "      <td>0</td>\n",
       "    </tr>\n",
       "    <tr>\n",
       "      <th>0.0</th>\n",
       "      <td>7</td>\n",
       "      <td>105.0</td>\n",
       "      <td>0</td>\n",
       "      <td>0</td>\n",
       "      <td>0.0</td>\n",
       "      <td>0.305</td>\n",
       "      <td>24</td>\n",
       "      <td>0</td>\n",
       "    </tr>\n",
       "    <tr>\n",
       "      <th>0.0</th>\n",
       "      <td>0</td>\n",
       "      <td>118.0</td>\n",
       "      <td>64</td>\n",
       "      <td>23</td>\n",
       "      <td>89.0</td>\n",
       "      <td>1.731</td>\n",
       "      <td>21</td>\n",
       "      <td>0</td>\n",
       "    </tr>\n",
       "    <tr>\n",
       "      <th>...</th>\n",
       "      <td>...</td>\n",
       "      <td>...</td>\n",
       "      <td>...</td>\n",
       "      <td>...</td>\n",
       "      <td>...</td>\n",
       "      <td>...</td>\n",
       "      <td>...</td>\n",
       "      <td>...</td>\n",
       "    </tr>\n",
       "    <tr>\n",
       "      <th>53.2</th>\n",
       "      <td>0</td>\n",
       "      <td>162.0</td>\n",
       "      <td>76</td>\n",
       "      <td>56</td>\n",
       "      <td>100.0</td>\n",
       "      <td>0.759</td>\n",
       "      <td>25</td>\n",
       "      <td>1</td>\n",
       "    </tr>\n",
       "    <tr>\n",
       "      <th>55.0</th>\n",
       "      <td>1</td>\n",
       "      <td>88.0</td>\n",
       "      <td>30</td>\n",
       "      <td>42</td>\n",
       "      <td>99.0</td>\n",
       "      <td>0.496</td>\n",
       "      <td>26</td>\n",
       "      <td>1</td>\n",
       "    </tr>\n",
       "    <tr>\n",
       "      <th>57.3</th>\n",
       "      <td>3</td>\n",
       "      <td>123.0</td>\n",
       "      <td>100</td>\n",
       "      <td>35</td>\n",
       "      <td>240.0</td>\n",
       "      <td>0.880</td>\n",
       "      <td>22</td>\n",
       "      <td>0</td>\n",
       "    </tr>\n",
       "    <tr>\n",
       "      <th>59.4</th>\n",
       "      <td>0</td>\n",
       "      <td>180.0</td>\n",
       "      <td>78</td>\n",
       "      <td>63</td>\n",
       "      <td>14.0</td>\n",
       "      <td>2.420</td>\n",
       "      <td>25</td>\n",
       "      <td>1</td>\n",
       "    </tr>\n",
       "    <tr>\n",
       "      <th>67.1</th>\n",
       "      <td>0</td>\n",
       "      <td>129.0</td>\n",
       "      <td>110</td>\n",
       "      <td>46</td>\n",
       "      <td>130.0</td>\n",
       "      <td>0.319</td>\n",
       "      <td>26</td>\n",
       "      <td>1</td>\n",
       "    </tr>\n",
       "  </tbody>\n",
       "</table>\n",
       "<p>768 rows × 8 columns</p>\n",
       "</div>"
      ],
      "text/plain": [
       "      Pregnancies  Glucose  BloodPressure SkinThickness  Insulin  \\\n",
       "BMI                                                                \n",
       "0.0             0    102.0             75            23      0.0   \n",
       "0.0            10    115.0              0             0      0.0   \n",
       "0.0             6    114.0              0             0      0.0   \n",
       "0.0             7    105.0              0             0      0.0   \n",
       "0.0             0    118.0             64            23     89.0   \n",
       "...           ...      ...            ...           ...      ...   \n",
       "53.2            0    162.0             76            56    100.0   \n",
       "55.0            1     88.0             30            42     99.0   \n",
       "57.3            3    123.0            100            35    240.0   \n",
       "59.4            0    180.0             78            63     14.0   \n",
       "67.1            0    129.0            110            46    130.0   \n",
       "\n",
       "      DiabetesPedigreeFunction  Age  Outcome  \n",
       "BMI                                           \n",
       "0.0                      0.572   21        0  \n",
       "0.0                      0.261   30        1  \n",
       "0.0                      0.189   26        0  \n",
       "0.0                      0.305   24        0  \n",
       "0.0                      1.731   21        0  \n",
       "...                        ...  ...      ...  \n",
       "53.2                     0.759   25        1  \n",
       "55.0                     0.496   26        1  \n",
       "57.3                     0.880   22        0  \n",
       "59.4                     2.420   25        1  \n",
       "67.1                     0.319   26        1  \n",
       "\n",
       "[768 rows x 8 columns]"
      ]
     },
     "execution_count": 50,
     "metadata": {},
     "output_type": "execute_result"
    }
   ],
   "source": [
    "df.sort_index()"
   ]
  },
  {
   "cell_type": "code",
   "execution_count": 51,
   "id": "15838deb",
   "metadata": {},
   "outputs": [
    {
     "data": {
      "text/html": [
       "<div>\n",
       "<style scoped>\n",
       "    .dataframe tbody tr th:only-of-type {\n",
       "        vertical-align: middle;\n",
       "    }\n",
       "\n",
       "    .dataframe tbody tr th {\n",
       "        vertical-align: top;\n",
       "    }\n",
       "\n",
       "    .dataframe thead th {\n",
       "        text-align: right;\n",
       "    }\n",
       "</style>\n",
       "<table border=\"1\" class=\"dataframe\">\n",
       "  <thead>\n",
       "    <tr style=\"text-align: right;\">\n",
       "      <th></th>\n",
       "      <th>Pregnancies</th>\n",
       "      <th>Glucose</th>\n",
       "      <th>BloodPressure</th>\n",
       "      <th>SkinThickness</th>\n",
       "      <th>Insulin</th>\n",
       "      <th>BMI</th>\n",
       "      <th>DiabetesPedigreeFunction</th>\n",
       "      <th>Age</th>\n",
       "      <th>Outcome</th>\n",
       "    </tr>\n",
       "  </thead>\n",
       "  <tbody>\n",
       "    <tr>\n",
       "      <th>0</th>\n",
       "      <td>6</td>\n",
       "      <td>148.0</td>\n",
       "      <td>72</td>\n",
       "      <td>35</td>\n",
       "      <td>NaN</td>\n",
       "      <td>33.6</td>\n",
       "      <td>0.627</td>\n",
       "      <td>50</td>\n",
       "      <td>1</td>\n",
       "    </tr>\n",
       "    <tr>\n",
       "      <th>1</th>\n",
       "      <td>1</td>\n",
       "      <td>85.0</td>\n",
       "      <td>66</td>\n",
       "      <td>29</td>\n",
       "      <td>NaN</td>\n",
       "      <td>26.6</td>\n",
       "      <td>0.351</td>\n",
       "      <td>31</td>\n",
       "      <td>0</td>\n",
       "    </tr>\n",
       "    <tr>\n",
       "      <th>2</th>\n",
       "      <td>8</td>\n",
       "      <td>NaN</td>\n",
       "      <td>64</td>\n",
       "      <td>0</td>\n",
       "      <td>NaN</td>\n",
       "      <td>23.3</td>\n",
       "      <td>0.672</td>\n",
       "      <td>32</td>\n",
       "      <td>1</td>\n",
       "    </tr>\n",
       "    <tr>\n",
       "      <th>3</th>\n",
       "      <td>1</td>\n",
       "      <td>NaN</td>\n",
       "      <td>66</td>\n",
       "      <td>23</td>\n",
       "      <td>94.0</td>\n",
       "      <td>28.1</td>\n",
       "      <td>0.167</td>\n",
       "      <td>21</td>\n",
       "      <td>0</td>\n",
       "    </tr>\n",
       "    <tr>\n",
       "      <th>4</th>\n",
       "      <td>0</td>\n",
       "      <td>NaN</td>\n",
       "      <td>40</td>\n",
       "      <td>35</td>\n",
       "      <td>168.0</td>\n",
       "      <td>43.1</td>\n",
       "      <td>NaN</td>\n",
       "      <td>33</td>\n",
       "      <td>1</td>\n",
       "    </tr>\n",
       "    <tr>\n",
       "      <th>...</th>\n",
       "      <td>...</td>\n",
       "      <td>...</td>\n",
       "      <td>...</td>\n",
       "      <td>...</td>\n",
       "      <td>...</td>\n",
       "      <td>...</td>\n",
       "      <td>...</td>\n",
       "      <td>...</td>\n",
       "      <td>...</td>\n",
       "    </tr>\n",
       "    <tr>\n",
       "      <th>763</th>\n",
       "      <td>10</td>\n",
       "      <td>101.0</td>\n",
       "      <td>76</td>\n",
       "      <td>48</td>\n",
       "      <td>180.0</td>\n",
       "      <td>32.9</td>\n",
       "      <td>0.171</td>\n",
       "      <td>63</td>\n",
       "      <td>0</td>\n",
       "    </tr>\n",
       "    <tr>\n",
       "      <th>764</th>\n",
       "      <td>2</td>\n",
       "      <td>122.0</td>\n",
       "      <td>70</td>\n",
       "      <td>27</td>\n",
       "      <td>0.0</td>\n",
       "      <td>36.8</td>\n",
       "      <td>0.340</td>\n",
       "      <td>27</td>\n",
       "      <td>0</td>\n",
       "    </tr>\n",
       "    <tr>\n",
       "      <th>765</th>\n",
       "      <td>5</td>\n",
       "      <td>121.0</td>\n",
       "      <td>72</td>\n",
       "      <td>23</td>\n",
       "      <td>112.0</td>\n",
       "      <td>26.2</td>\n",
       "      <td>0.245</td>\n",
       "      <td>30</td>\n",
       "      <td>0</td>\n",
       "    </tr>\n",
       "    <tr>\n",
       "      <th>766</th>\n",
       "      <td>1</td>\n",
       "      <td>126.0</td>\n",
       "      <td>60</td>\n",
       "      <td>0</td>\n",
       "      <td>0.0</td>\n",
       "      <td>30.1</td>\n",
       "      <td>0.349</td>\n",
       "      <td>47</td>\n",
       "      <td>1</td>\n",
       "    </tr>\n",
       "    <tr>\n",
       "      <th>767</th>\n",
       "      <td>1</td>\n",
       "      <td>93.0</td>\n",
       "      <td>70</td>\n",
       "      <td>31</td>\n",
       "      <td>0.0</td>\n",
       "      <td>30.4</td>\n",
       "      <td>0.315</td>\n",
       "      <td>23</td>\n",
       "      <td>0</td>\n",
       "    </tr>\n",
       "  </tbody>\n",
       "</table>\n",
       "<p>768 rows × 9 columns</p>\n",
       "</div>"
      ],
      "text/plain": [
       "     Pregnancies  Glucose  BloodPressure SkinThickness  Insulin   BMI  \\\n",
       "0              6    148.0             72            35      NaN  33.6   \n",
       "1              1     85.0             66            29      NaN  26.6   \n",
       "2              8      NaN             64             0      NaN  23.3   \n",
       "3              1      NaN             66            23     94.0  28.1   \n",
       "4              0      NaN             40            35    168.0  43.1   \n",
       "..           ...      ...            ...           ...      ...   ...   \n",
       "763           10    101.0             76            48    180.0  32.9   \n",
       "764            2    122.0             70            27      0.0  36.8   \n",
       "765            5    121.0             72            23    112.0  26.2   \n",
       "766            1    126.0             60             0      0.0  30.1   \n",
       "767            1     93.0             70            31      0.0  30.4   \n",
       "\n",
       "     DiabetesPedigreeFunction  Age  Outcome  \n",
       "0                       0.627   50        1  \n",
       "1                       0.351   31        0  \n",
       "2                       0.672   32        1  \n",
       "3                       0.167   21        0  \n",
       "4                         NaN   33        1  \n",
       "..                        ...  ...      ...  \n",
       "763                     0.171   63        0  \n",
       "764                     0.340   27        0  \n",
       "765                     0.245   30        0  \n",
       "766                     0.349   47        1  \n",
       "767                     0.315   23        0  \n",
       "\n",
       "[768 rows x 9 columns]"
      ]
     },
     "execution_count": 51,
     "metadata": {},
     "output_type": "execute_result"
    }
   ],
   "source": [
    "x"
   ]
  },
  {
   "cell_type": "code",
   "execution_count": 52,
   "id": "3647e8ad",
   "metadata": {},
   "outputs": [
    {
     "data": {
      "text/html": [
       "<div>\n",
       "<style scoped>\n",
       "    .dataframe tbody tr th:only-of-type {\n",
       "        vertical-align: middle;\n",
       "    }\n",
       "\n",
       "    .dataframe tbody tr th {\n",
       "        vertical-align: top;\n",
       "    }\n",
       "\n",
       "    .dataframe thead th {\n",
       "        text-align: right;\n",
       "    }\n",
       "</style>\n",
       "<table border=\"1\" class=\"dataframe\">\n",
       "  <thead>\n",
       "    <tr style=\"text-align: right;\">\n",
       "      <th></th>\n",
       "      <th>Pregnancies</th>\n",
       "      <th>Glucose</th>\n",
       "      <th>BloodPressure</th>\n",
       "      <th>SkinThickness</th>\n",
       "      <th>Insulin</th>\n",
       "      <th>BMI</th>\n",
       "      <th>DiabetesPedigreeFunction</th>\n",
       "      <th>Age</th>\n",
       "      <th>Outcome</th>\n",
       "    </tr>\n",
       "  </thead>\n",
       "  <tbody>\n",
       "    <tr>\n",
       "      <th>0</th>\n",
       "      <td>6</td>\n",
       "      <td>148.0</td>\n",
       "      <td>72</td>\n",
       "      <td>35</td>\n",
       "      <td>NaN</td>\n",
       "      <td>33.6</td>\n",
       "      <td>0.627</td>\n",
       "      <td>50</td>\n",
       "      <td>1</td>\n",
       "    </tr>\n",
       "    <tr>\n",
       "      <th>122</th>\n",
       "      <td>2</td>\n",
       "      <td>107.0</td>\n",
       "      <td>74</td>\n",
       "      <td>30</td>\n",
       "      <td>100.0</td>\n",
       "      <td>33.6</td>\n",
       "      <td>0.404</td>\n",
       "      <td>23</td>\n",
       "      <td>0</td>\n",
       "    </tr>\n",
       "    <tr>\n",
       "      <th>255</th>\n",
       "      <td>1</td>\n",
       "      <td>113.0</td>\n",
       "      <td>64</td>\n",
       "      <td>35</td>\n",
       "      <td>0.0</td>\n",
       "      <td>33.6</td>\n",
       "      <td>0.543</td>\n",
       "      <td>21</td>\n",
       "      <td>1</td>\n",
       "    </tr>\n",
       "    <tr>\n",
       "      <th>265</th>\n",
       "      <td>5</td>\n",
       "      <td>96.0</td>\n",
       "      <td>74</td>\n",
       "      <td>18</td>\n",
       "      <td>67.0</td>\n",
       "      <td>33.6</td>\n",
       "      <td>0.997</td>\n",
       "      <td>43</td>\n",
       "      <td>0</td>\n",
       "    </tr>\n",
       "    <tr>\n",
       "      <th>448</th>\n",
       "      <td>0</td>\n",
       "      <td>104.0</td>\n",
       "      <td>64</td>\n",
       "      <td>37</td>\n",
       "      <td>64.0</td>\n",
       "      <td>33.6</td>\n",
       "      <td>0.510</td>\n",
       "      <td>22</td>\n",
       "      <td>1</td>\n",
       "    </tr>\n",
       "    <tr>\n",
       "      <th>455</th>\n",
       "      <td>14</td>\n",
       "      <td>175.0</td>\n",
       "      <td>62</td>\n",
       "      <td>30</td>\n",
       "      <td>0.0</td>\n",
       "      <td>33.6</td>\n",
       "      <td>0.212</td>\n",
       "      <td>38</td>\n",
       "      <td>1</td>\n",
       "    </tr>\n",
       "    <tr>\n",
       "      <th>594</th>\n",
       "      <td>6</td>\n",
       "      <td>123.0</td>\n",
       "      <td>72</td>\n",
       "      <td>45</td>\n",
       "      <td>230.0</td>\n",
       "      <td>33.6</td>\n",
       "      <td>0.733</td>\n",
       "      <td>34</td>\n",
       "      <td>0</td>\n",
       "    </tr>\n",
       "    <tr>\n",
       "      <th>670</th>\n",
       "      <td>6</td>\n",
       "      <td>165.0</td>\n",
       "      <td>68</td>\n",
       "      <td>26</td>\n",
       "      <td>168.0</td>\n",
       "      <td>33.6</td>\n",
       "      <td>0.631</td>\n",
       "      <td>49</td>\n",
       "      <td>0</td>\n",
       "    </tr>\n",
       "  </tbody>\n",
       "</table>\n",
       "</div>"
      ],
      "text/plain": [
       "     Pregnancies  Glucose  BloodPressure SkinThickness  Insulin   BMI  \\\n",
       "0              6    148.0             72            35      NaN  33.6   \n",
       "122            2    107.0             74            30    100.0  33.6   \n",
       "255            1    113.0             64            35      0.0  33.6   \n",
       "265            5     96.0             74            18     67.0  33.6   \n",
       "448            0    104.0             64            37     64.0  33.6   \n",
       "455           14    175.0             62            30      0.0  33.6   \n",
       "594            6    123.0             72            45    230.0  33.6   \n",
       "670            6    165.0             68            26    168.0  33.6   \n",
       "\n",
       "     DiabetesPedigreeFunction  Age  Outcome  \n",
       "0                       0.627   50        1  \n",
       "122                     0.404   23        0  \n",
       "255                     0.543   21        1  \n",
       "265                     0.997   43        0  \n",
       "448                     0.510   22        1  \n",
       "455                     0.212   38        1  \n",
       "594                     0.733   34        0  \n",
       "670                     0.631   49        0  "
      ]
     },
     "execution_count": 52,
     "metadata": {},
     "output_type": "execute_result"
    }
   ],
   "source": [
    "x[x[\"BMI\"]==33.6]"
   ]
  },
  {
   "cell_type": "code",
   "execution_count": 53,
   "id": "708673da",
   "metadata": {},
   "outputs": [
    {
     "data": {
      "text/plain": [
       "0      33.6\n",
       "2      23.3\n",
       "3      28.1\n",
       "4      43.1\n",
       "5      25.6\n",
       "       ... \n",
       "763    32.9\n",
       "764    36.8\n",
       "765    26.2\n",
       "766    30.1\n",
       "767    30.4\n",
       "Name: BMI, Length: 756, dtype: float64"
      ]
     },
     "execution_count": 53,
     "metadata": {},
     "output_type": "execute_result"
    }
   ],
   "source": [
    "y=(x[\"BMI\"]>=26.6) & (x[\"BMI\"]<=27)\n",
    "(x.loc[~y,\"BMI\"])"
   ]
  },
  {
   "cell_type": "code",
   "execution_count": 54,
   "id": "30dfc022",
   "metadata": {},
   "outputs": [
    {
     "data": {
      "text/plain": [
       "0       True\n",
       "2      False\n",
       "3      False\n",
       "4      False\n",
       "5       True\n",
       "       ...  \n",
       "763     True\n",
       "764    False\n",
       "765    False\n",
       "766    False\n",
       "767    False\n",
       "Name: BMI, Length: 756, dtype: bool"
      ]
     },
     "execution_count": 54,
     "metadata": {},
     "output_type": "execute_result"
    }
   ],
   "source": [
    "lis=[34,2,33.4,33.6,25.6,32.9]\n",
    "(x.loc[~y,\"BMI\"]).isin(lis)"
   ]
  },
  {
   "cell_type": "code",
   "execution_count": 55,
   "id": "cb97cb71",
   "metadata": {},
   "outputs": [],
   "source": [
    "x.columns=[\"Pn\",\"Gl\",\"Bp\",\"St\",\"In\",\"Bi\",\"Dpf\",\"A\",\"Oc\"]\n"
   ]
  },
  {
   "cell_type": "code",
   "execution_count": 56,
   "id": "22fd4689",
   "metadata": {},
   "outputs": [
    {
     "data": {
      "text/html": [
       "<div>\n",
       "<style scoped>\n",
       "    .dataframe tbody tr th:only-of-type {\n",
       "        vertical-align: middle;\n",
       "    }\n",
       "\n",
       "    .dataframe tbody tr th {\n",
       "        vertical-align: top;\n",
       "    }\n",
       "\n",
       "    .dataframe thead th {\n",
       "        text-align: right;\n",
       "    }\n",
       "</style>\n",
       "<table border=\"1\" class=\"dataframe\">\n",
       "  <thead>\n",
       "    <tr style=\"text-align: right;\">\n",
       "      <th></th>\n",
       "      <th>Pn</th>\n",
       "      <th>Gl</th>\n",
       "      <th>Bp</th>\n",
       "      <th>St</th>\n",
       "      <th>In</th>\n",
       "      <th>Bi</th>\n",
       "      <th>Dpf</th>\n",
       "      <th>A</th>\n",
       "      <th>Oc</th>\n",
       "    </tr>\n",
       "  </thead>\n",
       "  <tbody>\n",
       "    <tr>\n",
       "      <th>0</th>\n",
       "      <td>6</td>\n",
       "      <td>148.0</td>\n",
       "      <td>72</td>\n",
       "      <td>35</td>\n",
       "      <td>NaN</td>\n",
       "      <td>33.6</td>\n",
       "      <td>0.627</td>\n",
       "      <td>50</td>\n",
       "      <td>1</td>\n",
       "    </tr>\n",
       "    <tr>\n",
       "      <th>1</th>\n",
       "      <td>1</td>\n",
       "      <td>85.0</td>\n",
       "      <td>66</td>\n",
       "      <td>29</td>\n",
       "      <td>NaN</td>\n",
       "      <td>26.6</td>\n",
       "      <td>0.351</td>\n",
       "      <td>31</td>\n",
       "      <td>0</td>\n",
       "    </tr>\n",
       "    <tr>\n",
       "      <th>2</th>\n",
       "      <td>8</td>\n",
       "      <td>NaN</td>\n",
       "      <td>64</td>\n",
       "      <td>0</td>\n",
       "      <td>NaN</td>\n",
       "      <td>23.3</td>\n",
       "      <td>0.672</td>\n",
       "      <td>32</td>\n",
       "      <td>1</td>\n",
       "    </tr>\n",
       "    <tr>\n",
       "      <th>3</th>\n",
       "      <td>1</td>\n",
       "      <td>NaN</td>\n",
       "      <td>66</td>\n",
       "      <td>23</td>\n",
       "      <td>94.0</td>\n",
       "      <td>28.1</td>\n",
       "      <td>0.167</td>\n",
       "      <td>21</td>\n",
       "      <td>0</td>\n",
       "    </tr>\n",
       "    <tr>\n",
       "      <th>4</th>\n",
       "      <td>0</td>\n",
       "      <td>NaN</td>\n",
       "      <td>40</td>\n",
       "      <td>35</td>\n",
       "      <td>168.0</td>\n",
       "      <td>43.1</td>\n",
       "      <td>NaN</td>\n",
       "      <td>33</td>\n",
       "      <td>1</td>\n",
       "    </tr>\n",
       "    <tr>\n",
       "      <th>...</th>\n",
       "      <td>...</td>\n",
       "      <td>...</td>\n",
       "      <td>...</td>\n",
       "      <td>...</td>\n",
       "      <td>...</td>\n",
       "      <td>...</td>\n",
       "      <td>...</td>\n",
       "      <td>...</td>\n",
       "      <td>...</td>\n",
       "    </tr>\n",
       "    <tr>\n",
       "      <th>763</th>\n",
       "      <td>10</td>\n",
       "      <td>101.0</td>\n",
       "      <td>76</td>\n",
       "      <td>48</td>\n",
       "      <td>180.0</td>\n",
       "      <td>32.9</td>\n",
       "      <td>0.171</td>\n",
       "      <td>63</td>\n",
       "      <td>0</td>\n",
       "    </tr>\n",
       "    <tr>\n",
       "      <th>764</th>\n",
       "      <td>2</td>\n",
       "      <td>122.0</td>\n",
       "      <td>70</td>\n",
       "      <td>27</td>\n",
       "      <td>0.0</td>\n",
       "      <td>36.8</td>\n",
       "      <td>0.340</td>\n",
       "      <td>27</td>\n",
       "      <td>0</td>\n",
       "    </tr>\n",
       "    <tr>\n",
       "      <th>765</th>\n",
       "      <td>5</td>\n",
       "      <td>121.0</td>\n",
       "      <td>72</td>\n",
       "      <td>23</td>\n",
       "      <td>112.0</td>\n",
       "      <td>26.2</td>\n",
       "      <td>0.245</td>\n",
       "      <td>30</td>\n",
       "      <td>0</td>\n",
       "    </tr>\n",
       "    <tr>\n",
       "      <th>766</th>\n",
       "      <td>1</td>\n",
       "      <td>126.0</td>\n",
       "      <td>60</td>\n",
       "      <td>0</td>\n",
       "      <td>0.0</td>\n",
       "      <td>30.1</td>\n",
       "      <td>0.349</td>\n",
       "      <td>47</td>\n",
       "      <td>1</td>\n",
       "    </tr>\n",
       "    <tr>\n",
       "      <th>767</th>\n",
       "      <td>1</td>\n",
       "      <td>93.0</td>\n",
       "      <td>70</td>\n",
       "      <td>31</td>\n",
       "      <td>0.0</td>\n",
       "      <td>30.4</td>\n",
       "      <td>0.315</td>\n",
       "      <td>23</td>\n",
       "      <td>0</td>\n",
       "    </tr>\n",
       "  </tbody>\n",
       "</table>\n",
       "<p>768 rows × 9 columns</p>\n",
       "</div>"
      ],
      "text/plain": [
       "     Pn     Gl  Bp  St     In    Bi    Dpf   A  Oc\n",
       "0     6  148.0  72  35    NaN  33.6  0.627  50   1\n",
       "1     1   85.0  66  29    NaN  26.6  0.351  31   0\n",
       "2     8    NaN  64   0    NaN  23.3  0.672  32   1\n",
       "3     1    NaN  66  23   94.0  28.1  0.167  21   0\n",
       "4     0    NaN  40  35  168.0  43.1    NaN  33   1\n",
       "..   ..    ...  ..  ..    ...   ...    ...  ..  ..\n",
       "763  10  101.0  76  48  180.0  32.9  0.171  63   0\n",
       "764   2  122.0  70  27    0.0  36.8  0.340  27   0\n",
       "765   5  121.0  72  23  112.0  26.2  0.245  30   0\n",
       "766   1  126.0  60   0    0.0  30.1  0.349  47   1\n",
       "767   1   93.0  70  31    0.0  30.4  0.315  23   0\n",
       "\n",
       "[768 rows x 9 columns]"
      ]
     },
     "execution_count": 56,
     "metadata": {},
     "output_type": "execute_result"
    }
   ],
   "source": [
    "x"
   ]
  },
  {
   "cell_type": "code",
   "execution_count": null,
   "id": "dad77acf",
   "metadata": {},
   "outputs": [],
   "source": [
    "x[\"Bp\"].sort_values(ascending=False)"
   ]
  },
  {
   "cell_type": "code",
   "execution_count": null,
   "id": "eeba4ecd",
   "metadata": {},
   "outputs": [],
   "source": [
    "x[[\"PN\",\"GL\"]]"
   ]
  },
  {
   "cell_type": "code",
   "execution_count": null,
   "id": "277b99aa",
   "metadata": {},
   "outputs": [],
   "source": []
  },
  {
   "cell_type": "code",
   "execution_count": null,
   "id": "ce5e8daa",
   "metadata": {},
   "outputs": [],
   "source": []
  },
  {
   "cell_type": "code",
   "execution_count": null,
   "id": "0cdf850a",
   "metadata": {},
   "outputs": [],
   "source": [
    "# Python code demonstrate to create a \n",
    "# Pandas DataFrame with lists of \n",
    "# dictionaries as well as \n",
    "# row and column indexes. \n",
    "\n",
    "import pandas as pd \n",
    "\n",
    "# Initialize lists data. \n",
    "data = [{'a': 1, 'b': 2}, \n",
    "\t\t{'a': 5, 'b': 10, 'c': 20}] \n",
    "\n",
    "# With two column indices, values same \n",
    "# as dictionary keys \n",
    "df1 = pd.DataFrame(data, index=['first', \n",
    "\t\t\t\t\t\t\t\t'second'], \n",
    "\t\t\t\tcolumns=['a', 'b']) \n",
    "\n",
    "# With two column indices with \n",
    "# one index with other name \n",
    "df2 = pd.DataFrame(data, index=['first', \n",
    "\t\t\t\t\t\t\t\t'second'], \n",
    "\t\t\t\tcolumns=['a', 'c']) \n",
    "\n",
    "# print for first data frame \n",
    "print(df1, \"\\n\") \n",
    "\n",
    "# Print for second DataFrame. \n",
    "print(df2) \n"
   ]
  },
  {
   "cell_type": "code",
   "execution_count": null,
   "id": "2cac7cfd",
   "metadata": {},
   "outputs": [],
   "source": [
    "# List1 \n",
    "Name = ['tom', 'krish', 'nick', 'juli'] \n",
    "  \n",
    "# List2 \n",
    "Age = [25, 30, 26, 22] \n",
    "  \n",
    "# get the list of tuples from two lists. \n",
    "# and merge them by using zip(). \n",
    "list_of_tuples = list(zip(Name, Age)) \n",
    "list_of_tuples"
   ]
  },
  {
   "cell_type": "code",
   "execution_count": null,
   "id": "1c39cf00",
   "metadata": {},
   "outputs": [],
   "source": [
    "pd.DataFrame(list_of_tuples,index=[\"a\",\"b\",\"c\",\"d\"],columns=[\"Name\",\"Age\"])\n"
   ]
  },
  {
   "cell_type": "code",
   "execution_count": null,
   "id": "2e7268f4",
   "metadata": {},
   "outputs": [],
   "source": [
    "# Python code demonstrate creating \n",
    "# Pandas Dataframe from Dicts of series. \n",
    "\n",
    "import pandas as pd \n",
    "\n",
    "# Initialize data to Dicts of series. \n",
    "d = {'one': pd.Series([10, 20, 30, 40], \n",
    "\t\t\t\t\t), \n",
    "\t'two': pd.Series([10, 20, 30, 40], \n",
    "\t\t\t\t\t)} \n",
    "\n",
    "# creates Dataframe. \n",
    "df = pd.DataFrame(d,index=['a', 'b', 'c', 'd']) \n",
    "\n",
    "# print the data. \n",
    "df \n"
   ]
  },
  {
   "cell_type": "code",
   "execution_count": null,
   "id": "33921652",
   "metadata": {},
   "outputs": [],
   "source": [
    "panda"
   ]
  },
  {
   "cell_type": "code",
   "execution_count": null,
   "id": "23d2b62d",
   "metadata": {},
   "outputs": [],
   "source": [
    "panda[\"Information\"]=[\"ML ENGINNER EARN 100K$\",\"DATA SCIENTIST EARN 120K$\",\"AI SCIENTIST EARN 150K$\"]"
   ]
  },
  {
   "cell_type": "code",
   "execution_count": null,
   "id": "dcec1fc4",
   "metadata": {},
   "outputs": [],
   "source": [
    "panda"
   ]
  },
  {
   "cell_type": "code",
   "execution_count": null,
   "id": "9cbafe5f",
   "metadata": {},
   "outputs": [],
   "source": [
    "panda.drop([\"SALARY\",\"JOB TITLE\"],axis=1)"
   ]
  },
  {
   "cell_type": "code",
   "execution_count": null,
   "id": "fc212859",
   "metadata": {},
   "outputs": [],
   "source": [
    "panda"
   ]
  },
  {
   "cell_type": "code",
   "execution_count": null,
   "id": "fea1eeb6",
   "metadata": {},
   "outputs": [],
   "source": [
    "panda.drop(index=[\"Bob\",\"Jack\"])"
   ]
  },
  {
   "cell_type": "code",
   "execution_count": null,
   "id": "c8914af6",
   "metadata": {},
   "outputs": [],
   "source": [
    "panda"
   ]
  },
  {
   "cell_type": "code",
   "execution_count": null,
   "id": "be648e8d",
   "metadata": {},
   "outputs": [],
   "source": [
    "panda.drop(\"SALARY\",axis=1)"
   ]
  },
  {
   "cell_type": "code",
   "execution_count": null,
   "id": "b3ea63db",
   "metadata": {},
   "outputs": [],
   "source": [
    "panda.drop(\"SALARY\",axis=1)"
   ]
  },
  {
   "cell_type": "code",
   "execution_count": null,
   "id": "453fb187",
   "metadata": {},
   "outputs": [],
   "source": [
    "df1 = pd.DataFrame([['a', 1], ['b', 2]],\n",
    "                   columns=['letter', 'number'])\n",
    "df4 = pd.DataFrame([['bird', 'polly'], ['monkey', 'george']],\n",
    "                   columns=['animal', 'name'])\n",
    "pd.concat([df1, df4], axis=1)"
   ]
  },
  {
   "cell_type": "code",
   "execution_count": null,
   "id": "e8bd5922",
   "metadata": {},
   "outputs": [],
   "source": [
    "panda"
   ]
  },
  {
   "cell_type": "code",
   "execution_count": null,
   "id": "400f83f0",
   "metadata": {},
   "outputs": [],
   "source": [
    "panda.index=[0,1,2]\n",
    "panda"
   ]
  },
  {
   "cell_type": "code",
   "execution_count": null,
   "id": "b5de5874",
   "metadata": {},
   "outputs": [],
   "source": [
    "df1 = pd.DataFrame([['a', 1], [ 2]],\n",
    "                   columns=['letter', 'number'])\n",
    "print((df1))\n",
    "df2 = pd.DataFrame([['c', 3], ['d']],\n",
    "                   columns=['letter', 'number'])\n",
    "(df2)\n",
    "print(\"------------\")\n",
    "pd.concat([df1, df2])"
   ]
  },
  {
   "cell_type": "code",
   "execution_count": null,
   "id": "b7dd2d5d",
   "metadata": {},
   "outputs": [],
   "source": [
    "panda1=pd.DataFrame({\"Location\":[\"NY\",\"LONDON\",\"BERLIN\"]})\n",
    "panda1"
   ]
  },
  {
   "cell_type": "code",
   "execution_count": null,
   "id": "4cc41a06",
   "metadata": {},
   "outputs": [],
   "source": [
    "pd.concat([panda,panda1],axis=1,sort=True)"
   ]
  },
  {
   "cell_type": "code",
   "execution_count": null,
   "id": "8f5c6717",
   "metadata": {},
   "outputs": [],
   "source": [
    "x"
   ]
  },
  {
   "cell_type": "code",
   "execution_count": null,
   "id": "96ea4797",
   "metadata": {},
   "outputs": [],
   "source": [
    "x.sort_values(by=[\"Pn\",\"Bi\"],ascending=[False,True]).head(100)"
   ]
  },
  {
   "cell_type": "code",
   "execution_count": null,
   "id": "d699368b",
   "metadata": {},
   "outputs": [],
   "source": [
    "df = pd.DataFrame({\"key1\" : [\"a\", \"a\", None, \"b\", \"b\", \"a\", None],\n",
    "....: \"key2\" : pd.Series([1, 2, 1, 2, 1, None, 1], dtype=\"Int64\"),\n",
    " \"data1\" : np.random.standard_normal(7), \"data2\" : np.random.standard_normal(7)})"
   ]
  },
  {
   "cell_type": "code",
   "execution_count": null,
   "id": "a11c1c71",
   "metadata": {},
   "outputs": [],
   "source": [
    "df"
   ]
  },
  {
   "cell_type": "code",
   "execution_count": null,
   "id": "519f5fee",
   "metadata": {},
   "outputs": [],
   "source": [
    "a=df[\"data1\"].groupby([df[\"key1\"],df[\"key2\"]]).min()"
   ]
  },
  {
   "cell_type": "code",
   "execution_count": null,
   "id": "bd1488c2",
   "metadata": {},
   "outputs": [],
   "source": [
    "a.unstack()"
   ]
  },
  {
   "cell_type": "code",
   "execution_count": null,
   "id": "a2ff6d16",
   "metadata": {},
   "outputs": [],
   "source": [
    "a"
   ]
  },
  {
   "cell_type": "code",
   "execution_count": null,
   "id": "ff45cceb",
   "metadata": {},
   "outputs": [],
   "source": [
    "a=df.groupby(\"key1\").mean()"
   ]
  },
  {
   "cell_type": "code",
   "execution_count": null,
   "id": "c250dcbf",
   "metadata": {},
   "outputs": [],
   "source": [
    "a.mean()"
   ]
  },
  {
   "cell_type": "code",
   "execution_count": 3,
   "id": "2415f6bb",
   "metadata": {},
   "outputs": [],
   "source": [
    "import pandas as pd\n",
    "df=pd.read_csv('diabetes.csv')"
   ]
  },
  {
   "cell_type": "code",
   "execution_count": 4,
   "id": "7442ed43",
   "metadata": {},
   "outputs": [
    {
     "data": {
      "text/html": [
       "<div>\n",
       "<style scoped>\n",
       "    .dataframe tbody tr th:only-of-type {\n",
       "        vertical-align: middle;\n",
       "    }\n",
       "\n",
       "    .dataframe tbody tr th {\n",
       "        vertical-align: top;\n",
       "    }\n",
       "\n",
       "    .dataframe thead th {\n",
       "        text-align: right;\n",
       "    }\n",
       "</style>\n",
       "<table border=\"1\" class=\"dataframe\">\n",
       "  <thead>\n",
       "    <tr style=\"text-align: right;\">\n",
       "      <th></th>\n",
       "      <th>Pregnancies</th>\n",
       "      <th>Glucose</th>\n",
       "      <th>BloodPressure</th>\n",
       "      <th>SkinThickness</th>\n",
       "      <th>Insulin</th>\n",
       "      <th>BMI</th>\n",
       "      <th>DiabetesPedigreeFunction</th>\n",
       "      <th>Age</th>\n",
       "      <th>Outcome</th>\n",
       "    </tr>\n",
       "  </thead>\n",
       "  <tbody>\n",
       "    <tr>\n",
       "      <th>0</th>\n",
       "      <td>6</td>\n",
       "      <td>148.0</td>\n",
       "      <td>72</td>\n",
       "      <td>35</td>\n",
       "      <td>NaN</td>\n",
       "      <td>33.6</td>\n",
       "      <td>0.627</td>\n",
       "      <td>50</td>\n",
       "      <td>1</td>\n",
       "    </tr>\n",
       "    <tr>\n",
       "      <th>1</th>\n",
       "      <td>1</td>\n",
       "      <td>85.0</td>\n",
       "      <td>66</td>\n",
       "      <td>29</td>\n",
       "      <td>NaN</td>\n",
       "      <td>26.6</td>\n",
       "      <td>0.351</td>\n",
       "      <td>31</td>\n",
       "      <td>0</td>\n",
       "    </tr>\n",
       "    <tr>\n",
       "      <th>2</th>\n",
       "      <td>8</td>\n",
       "      <td>NaN</td>\n",
       "      <td>64</td>\n",
       "      <td>0</td>\n",
       "      <td>NaN</td>\n",
       "      <td>23.3</td>\n",
       "      <td>0.672</td>\n",
       "      <td>32</td>\n",
       "      <td>1</td>\n",
       "    </tr>\n",
       "    <tr>\n",
       "      <th>3</th>\n",
       "      <td>1</td>\n",
       "      <td>NaN</td>\n",
       "      <td>66</td>\n",
       "      <td>23</td>\n",
       "      <td>94.0</td>\n",
       "      <td>28.1</td>\n",
       "      <td>0.167</td>\n",
       "      <td>21</td>\n",
       "      <td>0</td>\n",
       "    </tr>\n",
       "    <tr>\n",
       "      <th>4</th>\n",
       "      <td>0</td>\n",
       "      <td>NaN</td>\n",
       "      <td>40</td>\n",
       "      <td>35</td>\n",
       "      <td>168.0</td>\n",
       "      <td>43.1</td>\n",
       "      <td>NaN</td>\n",
       "      <td>33</td>\n",
       "      <td>1</td>\n",
       "    </tr>\n",
       "    <tr>\n",
       "      <th>5</th>\n",
       "      <td>5</td>\n",
       "      <td>NaN</td>\n",
       "      <td>74</td>\n",
       "      <td>0</td>\n",
       "      <td>0.0</td>\n",
       "      <td>25.6</td>\n",
       "      <td>NaN</td>\n",
       "      <td>30</td>\n",
       "      <td>0</td>\n",
       "    </tr>\n",
       "    <tr>\n",
       "      <th>6</th>\n",
       "      <td>3</td>\n",
       "      <td>78.0</td>\n",
       "      <td>50</td>\n",
       "      <td>32</td>\n",
       "      <td>88.0</td>\n",
       "      <td>31.0</td>\n",
       "      <td>NaN</td>\n",
       "      <td>26</td>\n",
       "      <td>1</td>\n",
       "    </tr>\n",
       "    <tr>\n",
       "      <th>7</th>\n",
       "      <td>10</td>\n",
       "      <td>115.0</td>\n",
       "      <td>0</td>\n",
       "      <td>0</td>\n",
       "      <td>0.0</td>\n",
       "      <td>35.3</td>\n",
       "      <td>NaN</td>\n",
       "      <td>29</td>\n",
       "      <td>0</td>\n",
       "    </tr>\n",
       "    <tr>\n",
       "      <th>8</th>\n",
       "      <td>2</td>\n",
       "      <td>197.0</td>\n",
       "      <td>70</td>\n",
       "      <td>45</td>\n",
       "      <td>543.0</td>\n",
       "      <td>30.5</td>\n",
       "      <td>NaN</td>\n",
       "      <td>53</td>\n",
       "      <td>1</td>\n",
       "    </tr>\n",
       "    <tr>\n",
       "      <th>9</th>\n",
       "      <td>8</td>\n",
       "      <td>125.0</td>\n",
       "      <td>96</td>\n",
       "      <td>no info</td>\n",
       "      <td>0.0</td>\n",
       "      <td>0.0</td>\n",
       "      <td>0.232</td>\n",
       "      <td>54</td>\n",
       "      <td>1</td>\n",
       "    </tr>\n",
       "    <tr>\n",
       "      <th>10</th>\n",
       "      <td>4</td>\n",
       "      <td>110.0</td>\n",
       "      <td>92</td>\n",
       "      <td>no info</td>\n",
       "      <td>0.0</td>\n",
       "      <td>37.6</td>\n",
       "      <td>0.191</td>\n",
       "      <td>30</td>\n",
       "      <td>0</td>\n",
       "    </tr>\n",
       "    <tr>\n",
       "      <th>11</th>\n",
       "      <td>10</td>\n",
       "      <td>168.0</td>\n",
       "      <td>74</td>\n",
       "      <td>no info</td>\n",
       "      <td>0.0</td>\n",
       "      <td>38.0</td>\n",
       "      <td>0.537</td>\n",
       "      <td>34</td>\n",
       "      <td>1</td>\n",
       "    </tr>\n",
       "    <tr>\n",
       "      <th>12</th>\n",
       "      <td>10</td>\n",
       "      <td>139.0</td>\n",
       "      <td>80</td>\n",
       "      <td>no info</td>\n",
       "      <td>0.0</td>\n",
       "      <td>27.1</td>\n",
       "      <td>1.441</td>\n",
       "      <td>57</td>\n",
       "      <td>0</td>\n",
       "    </tr>\n",
       "    <tr>\n",
       "      <th>13</th>\n",
       "      <td>1</td>\n",
       "      <td>189.0</td>\n",
       "      <td>60</td>\n",
       "      <td>23</td>\n",
       "      <td>846.0</td>\n",
       "      <td>30.1</td>\n",
       "      <td>0.398</td>\n",
       "      <td>59</td>\n",
       "      <td>1</td>\n",
       "    </tr>\n",
       "    <tr>\n",
       "      <th>14</th>\n",
       "      <td>5</td>\n",
       "      <td>166.0</td>\n",
       "      <td>72</td>\n",
       "      <td>19</td>\n",
       "      <td>175.0</td>\n",
       "      <td>25.8</td>\n",
       "      <td>0.587</td>\n",
       "      <td>51</td>\n",
       "      <td>1</td>\n",
       "    </tr>\n",
       "  </tbody>\n",
       "</table>\n",
       "</div>"
      ],
      "text/plain": [
       "    Pregnancies  Glucose  BloodPressure SkinThickness  Insulin   BMI  \\\n",
       "0             6    148.0             72            35      NaN  33.6   \n",
       "1             1     85.0             66            29      NaN  26.6   \n",
       "2             8      NaN             64             0      NaN  23.3   \n",
       "3             1      NaN             66            23     94.0  28.1   \n",
       "4             0      NaN             40            35    168.0  43.1   \n",
       "5             5      NaN             74             0      0.0  25.6   \n",
       "6             3     78.0             50            32     88.0  31.0   \n",
       "7            10    115.0              0             0      0.0  35.3   \n",
       "8             2    197.0             70            45    543.0  30.5   \n",
       "9             8    125.0             96       no info      0.0   0.0   \n",
       "10            4    110.0             92       no info      0.0  37.6   \n",
       "11           10    168.0             74       no info      0.0  38.0   \n",
       "12           10    139.0             80       no info      0.0  27.1   \n",
       "13            1    189.0             60            23    846.0  30.1   \n",
       "14            5    166.0             72            19    175.0  25.8   \n",
       "\n",
       "    DiabetesPedigreeFunction  Age  Outcome  \n",
       "0                      0.627   50        1  \n",
       "1                      0.351   31        0  \n",
       "2                      0.672   32        1  \n",
       "3                      0.167   21        0  \n",
       "4                        NaN   33        1  \n",
       "5                        NaN   30        0  \n",
       "6                        NaN   26        1  \n",
       "7                        NaN   29        0  \n",
       "8                        NaN   53        1  \n",
       "9                      0.232   54        1  \n",
       "10                     0.191   30        0  \n",
       "11                     0.537   34        1  \n",
       "12                     1.441   57        0  \n",
       "13                     0.398   59        1  \n",
       "14                     0.587   51        1  "
      ]
     },
     "execution_count": 4,
     "metadata": {},
     "output_type": "execute_result"
    }
   ],
   "source": [
    "df.head(15)\n"
   ]
  },
  {
   "cell_type": "code",
   "execution_count": 5,
   "id": "20834373",
   "metadata": {},
   "outputs": [],
   "source": [
    "df[\"SkinThickness\"]=df[\"SkinThickness\"].str.replace(\"no info\",\"no\")"
   ]
  },
  {
   "cell_type": "code",
   "execution_count": 7,
   "id": "c1fe753c",
   "metadata": {},
   "outputs": [
    {
     "data": {
      "text/plain": [
       "BMI\n",
       "0.0       8.090909\n",
       "18.2     27.333333\n",
       "18.4      0.000000\n",
       "19.1      0.000000\n",
       "19.3     64.000000\n",
       "           ...    \n",
       "53.2    100.000000\n",
       "55.0     99.000000\n",
       "57.3    240.000000\n",
       "59.4     14.000000\n",
       "67.1    130.000000\n",
       "Name: Insulin, Length: 248, dtype: float64"
      ]
     },
     "execution_count": 7,
     "metadata": {},
     "output_type": "execute_result"
    }
   ],
   "source": [
    "df.groupby(\"BMI\").mean()[\"Insulin\"]\n"
   ]
  },
  {
   "cell_type": "code",
   "execution_count": null,
   "id": "d28faa7f",
   "metadata": {},
   "outputs": [],
   "source": []
  },
  {
   "cell_type": "code",
   "execution_count": null,
   "id": "5cc15c87",
   "metadata": {},
   "outputs": [],
   "source": [
    "df[\"BloodPressure\"].value_counts()"
   ]
  },
  {
   "cell_type": "code",
   "execution_count": null,
   "id": "6f0fe480",
   "metadata": {},
   "outputs": [],
   "source": [
    "df.isin([74]).sum()"
   ]
  },
  {
   "cell_type": "code",
   "execution_count": null,
   "id": "64e33fa3",
   "metadata": {},
   "outputs": [],
   "source": [
    "df[\"Age\"]=df[\"Age\"].astype(float)\n",
    "df"
   ]
  },
  {
   "cell_type": "code",
   "execution_count": 9,
   "id": "da2192ce",
   "metadata": {},
   "outputs": [],
   "source": [
    "import numpy as np"
   ]
  },
  {
   "cell_type": "code",
   "execution_count": 10,
   "id": "263223f7",
   "metadata": {},
   "outputs": [
    {
     "data": {
      "text/html": [
       "<div>\n",
       "<style scoped>\n",
       "    .dataframe tbody tr th:only-of-type {\n",
       "        vertical-align: middle;\n",
       "    }\n",
       "\n",
       "    .dataframe tbody tr th {\n",
       "        vertical-align: top;\n",
       "    }\n",
       "\n",
       "    .dataframe thead th {\n",
       "        text-align: right;\n",
       "    }\n",
       "</style>\n",
       "<table border=\"1\" class=\"dataframe\">\n",
       "  <thead>\n",
       "    <tr style=\"text-align: right;\">\n",
       "      <th></th>\n",
       "      <th>Pregnancies</th>\n",
       "      <th>Glucose</th>\n",
       "      <th>BloodPressure</th>\n",
       "      <th>SkinThickness</th>\n",
       "      <th>Insulin</th>\n",
       "      <th>BMI</th>\n",
       "      <th>DiabetesPedigreeFunction</th>\n",
       "      <th>Age</th>\n",
       "      <th>Outcome</th>\n",
       "    </tr>\n",
       "  </thead>\n",
       "  <tbody>\n",
       "    <tr>\n",
       "      <th>0</th>\n",
       "      <td>6</td>\n",
       "      <td>148.0</td>\n",
       "      <td>72</td>\n",
       "      <td>35</td>\n",
       "      <td>NaN</td>\n",
       "      <td>33.6</td>\n",
       "      <td>0.627</td>\n",
       "      <td>50</td>\n",
       "      <td>1</td>\n",
       "    </tr>\n",
       "    <tr>\n",
       "      <th>1</th>\n",
       "      <td>1</td>\n",
       "      <td>85.0</td>\n",
       "      <td>66</td>\n",
       "      <td>29</td>\n",
       "      <td>NaN</td>\n",
       "      <td>26.6</td>\n",
       "      <td>0.351</td>\n",
       "      <td>31</td>\n",
       "      <td>0</td>\n",
       "    </tr>\n",
       "    <tr>\n",
       "      <th>2</th>\n",
       "      <td>8</td>\n",
       "      <td>117.0</td>\n",
       "      <td>64</td>\n",
       "      <td>0</td>\n",
       "      <td>NaN</td>\n",
       "      <td>23.3</td>\n",
       "      <td>0.672</td>\n",
       "      <td>32</td>\n",
       "      <td>1</td>\n",
       "    </tr>\n",
       "    <tr>\n",
       "      <th>3</th>\n",
       "      <td>1</td>\n",
       "      <td>117.0</td>\n",
       "      <td>66</td>\n",
       "      <td>23</td>\n",
       "      <td>94.0</td>\n",
       "      <td>28.1</td>\n",
       "      <td>0.167</td>\n",
       "      <td>21</td>\n",
       "      <td>0</td>\n",
       "    </tr>\n",
       "    <tr>\n",
       "      <th>4</th>\n",
       "      <td>0</td>\n",
       "      <td>117.0</td>\n",
       "      <td>40</td>\n",
       "      <td>35</td>\n",
       "      <td>168.0</td>\n",
       "      <td>43.1</td>\n",
       "      <td>NaN</td>\n",
       "      <td>33</td>\n",
       "      <td>1</td>\n",
       "    </tr>\n",
       "    <tr>\n",
       "      <th>...</th>\n",
       "      <td>...</td>\n",
       "      <td>...</td>\n",
       "      <td>...</td>\n",
       "      <td>...</td>\n",
       "      <td>...</td>\n",
       "      <td>...</td>\n",
       "      <td>...</td>\n",
       "      <td>...</td>\n",
       "      <td>...</td>\n",
       "    </tr>\n",
       "    <tr>\n",
       "      <th>763</th>\n",
       "      <td>10</td>\n",
       "      <td>101.0</td>\n",
       "      <td>76</td>\n",
       "      <td>48</td>\n",
       "      <td>180.0</td>\n",
       "      <td>32.9</td>\n",
       "      <td>0.171</td>\n",
       "      <td>63</td>\n",
       "      <td>0</td>\n",
       "    </tr>\n",
       "    <tr>\n",
       "      <th>764</th>\n",
       "      <td>2</td>\n",
       "      <td>122.0</td>\n",
       "      <td>70</td>\n",
       "      <td>27</td>\n",
       "      <td>0.0</td>\n",
       "      <td>36.8</td>\n",
       "      <td>0.340</td>\n",
       "      <td>27</td>\n",
       "      <td>0</td>\n",
       "    </tr>\n",
       "    <tr>\n",
       "      <th>765</th>\n",
       "      <td>5</td>\n",
       "      <td>121.0</td>\n",
       "      <td>72</td>\n",
       "      <td>23</td>\n",
       "      <td>112.0</td>\n",
       "      <td>26.2</td>\n",
       "      <td>0.245</td>\n",
       "      <td>30</td>\n",
       "      <td>0</td>\n",
       "    </tr>\n",
       "    <tr>\n",
       "      <th>766</th>\n",
       "      <td>1</td>\n",
       "      <td>126.0</td>\n",
       "      <td>60</td>\n",
       "      <td>0</td>\n",
       "      <td>0.0</td>\n",
       "      <td>30.1</td>\n",
       "      <td>0.349</td>\n",
       "      <td>47</td>\n",
       "      <td>1</td>\n",
       "    </tr>\n",
       "    <tr>\n",
       "      <th>767</th>\n",
       "      <td>1</td>\n",
       "      <td>93.0</td>\n",
       "      <td>70</td>\n",
       "      <td>31</td>\n",
       "      <td>0.0</td>\n",
       "      <td>30.4</td>\n",
       "      <td>0.315</td>\n",
       "      <td>23</td>\n",
       "      <td>0</td>\n",
       "    </tr>\n",
       "  </tbody>\n",
       "</table>\n",
       "<p>768 rows × 9 columns</p>\n",
       "</div>"
      ],
      "text/plain": [
       "     Pregnancies  Glucose  BloodPressure SkinThickness  Insulin   BMI  \\\n",
       "0              6    148.0             72            35      NaN  33.6   \n",
       "1              1     85.0             66            29      NaN  26.6   \n",
       "2              8    117.0             64             0      NaN  23.3   \n",
       "3              1    117.0             66            23     94.0  28.1   \n",
       "4              0    117.0             40            35    168.0  43.1   \n",
       "..           ...      ...            ...           ...      ...   ...   \n",
       "763           10    101.0             76            48    180.0  32.9   \n",
       "764            2    122.0             70            27      0.0  36.8   \n",
       "765            5    121.0             72            23    112.0  26.2   \n",
       "766            1    126.0             60             0      0.0  30.1   \n",
       "767            1     93.0             70            31      0.0  30.4   \n",
       "\n",
       "     DiabetesPedigreeFunction  Age  Outcome  \n",
       "0                       0.627   50        1  \n",
       "1                       0.351   31        0  \n",
       "2                       0.672   32        1  \n",
       "3                       0.167   21        0  \n",
       "4                         NaN   33        1  \n",
       "..                        ...  ...      ...  \n",
       "763                     0.171   63        0  \n",
       "764                     0.340   27        0  \n",
       "765                     0.245   30        0  \n",
       "766                     0.349   47        1  \n",
       "767                     0.315   23        0  \n",
       "\n",
       "[768 rows x 9 columns]"
      ]
     },
     "execution_count": 10,
     "metadata": {},
     "output_type": "execute_result"
    }
   ],
   "source": [
    "df[\"Glucose\"]=df[\"Glucose\"].replace(np.nan,df[\"Glucose\"].median())\n",
    "df"
   ]
  },
  {
   "cell_type": "code",
   "execution_count": null,
   "id": "1945e3cf",
   "metadata": {},
   "outputs": [],
   "source": [
    "df.loc[766]"
   ]
  },
  {
   "cell_type": "code",
   "execution_count": null,
   "id": "6ffb5742",
   "metadata": {},
   "outputs": [],
   "source": [
    "import datetime"
   ]
  },
  {
   "cell_type": "code",
   "execution_count": null,
   "id": "d825a3f8",
   "metadata": {},
   "outputs": [],
   "source": [
    "date_time=pd.to_datetime(\"12/17/21 3:45:34pm\")\n",
    "date_time\n",
    "date_time.strftime('%A')"
   ]
  },
  {
   "cell_type": "code",
   "execution_count": null,
   "id": "0f4cd2e9",
   "metadata": {},
   "outputs": [],
   "source": [
    "d=date_time+pd.to_timedelta(np.arange(13),\"d\")"
   ]
  },
  {
   "cell_type": "code",
   "execution_count": null,
   "id": "f16c1242",
   "metadata": {},
   "outputs": [],
   "source": [
    "d"
   ]
  },
  {
   "cell_type": "code",
   "execution_count": null,
   "id": "20c27f62",
   "metadata": {},
   "outputs": [],
   "source": [
    "d.strftime('%A')"
   ]
  },
  {
   "cell_type": "code",
   "execution_count": null,
   "id": "e0d68eb1",
   "metadata": {},
   "outputs": [],
   "source": [
    "date_=pd.date_range('2015-12-16',periods=3,freq=\"d\")\n",
    "date_"
   ]
  },
  {
   "cell_type": "code",
   "execution_count": null,
   "id": "cd5790c4",
   "metadata": {},
   "outputs": [],
   "source": [
    "df=pd.read_csv('DailyDelhiClimateTest.csv')"
   ]
  },
  {
   "cell_type": "code",
   "execution_count": null,
   "id": "4632028a",
   "metadata": {},
   "outputs": [],
   "source": [
    "df"
   ]
  },
  {
   "cell_type": "code",
   "execution_count": null,
   "id": "fe54872d",
   "metadata": {},
   "outputs": [],
   "source": [
    "df[\"date\"]=pd.to_datetime(df[\"date\"],format='%Y-%M-%d')"
   ]
  },
  {
   "cell_type": "code",
   "execution_count": null,
   "id": "0401f191",
   "metadata": {},
   "outputs": [],
   "source": [
    "df"
   ]
  },
  {
   "cell_type": "code",
   "execution_count": null,
   "id": "70aef4c4",
   "metadata": {},
   "outputs": [],
   "source": [
    "df.set_index('date',inplace=True)"
   ]
  },
  {
   "cell_type": "code",
   "execution_count": null,
   "id": "2251506f",
   "metadata": {},
   "outputs": [],
   "source": [
    "df"
   ]
  },
  {
   "cell_type": "code",
   "execution_count": null,
   "id": "8c65dcbe",
   "metadata": {},
   "outputs": [],
   "source": [
    "df.loc['2017-01-03']"
   ]
  },
  {
   "cell_type": "code",
   "execution_count": null,
   "id": "cfb9c91a",
   "metadata": {},
   "outputs": [],
   "source": [
    "df.nsmallest(5,'meantemp')"
   ]
  },
  {
   "cell_type": "code",
   "execution_count": null,
   "id": "03c84a2f",
   "metadata": {},
   "outputs": [],
   "source": [
    "df.isna().sum()"
   ]
  },
  {
   "cell_type": "code",
   "execution_count": null,
   "id": "7f642298",
   "metadata": {},
   "outputs": [],
   "source": [
    "df.loc['2017-01']['meantemp'].std()"
   ]
  },
  {
   "cell_type": "code",
   "execution_count": null,
   "id": "a13ab4b7",
   "metadata": {},
   "outputs": [],
   "source": [
    "df"
   ]
  },
  {
   "cell_type": "code",
   "execution_count": null,
   "id": "5955b5d2",
   "metadata": {},
   "outputs": [],
   "source": [
    "df[\"Glucose\"].unique()"
   ]
  },
  {
   "cell_type": "code",
   "execution_count": null,
   "id": "7c903e3f",
   "metadata": {},
   "outputs": [],
   "source": [
    "len(df[\"Pregnancies\"].unique ())"
   ]
  },
  {
   "cell_type": "code",
   "execution_count": null,
   "id": "1286c5e9",
   "metadata": {},
   "outputs": [],
   "source": [
    "df[\"Pregnancies\"].max()"
   ]
  },
  {
   "cell_type": "code",
   "execution_count": null,
   "id": "a9daf3cc",
   "metadata": {},
   "outputs": [],
   "source": [
    "df.groupby(\"Pregnancies\")[\"Glucose\"].max()"
   ]
  },
  {
   "cell_type": "code",
   "execution_count": null,
   "id": "881ce5b7",
   "metadata": {},
   "outputs": [],
   "source": [
    "sum((df[\"Age\"]>=4) & (df[\"Age\"]<=40))"
   ]
  },
  {
   "cell_type": "code",
   "execution_count": null,
   "id": "4aaf0f02",
   "metadata": {},
   "outputs": [],
   "source": [
    "sum(df[\"Age\"].between(4,40))"
   ]
  },
  {
   "cell_type": "code",
   "execution_count": null,
   "id": "740a21ff",
   "metadata": {},
   "outputs": [],
   "source": [
    "df[\"SkinThickness\"].describe()"
   ]
  },
  {
   "cell_type": "code",
   "execution_count": null,
   "id": "cf9e4d62",
   "metadata": {},
   "outputs": [],
   "source": [
    "import matplotlib.pyplot as plt"
   ]
  },
  {
   "cell_type": "code",
   "execution_count": null,
   "id": "e42acb31",
   "metadata": {},
   "outputs": [],
   "source": [
    "df"
   ]
  },
  {
   "cell_type": "code",
   "execution_count": null,
   "id": "1103e7a7",
   "metadata": {},
   "outputs": [],
   "source": [
    "li=[148.0,85.0]\n",
    "df[\"Glucose\"].replace(li,[\"No\",\"Yes\"],inplace=True)"
   ]
  },
  {
   "cell_type": "code",
   "execution_count": null,
   "id": "2f0d00b2",
   "metadata": {},
   "outputs": [],
   "source": [
    "df"
   ]
  },
  {
   "cell_type": "code",
   "execution_count": null,
   "id": "c6ee3e86",
   "metadata": {},
   "outputs": [],
   "source": [
    "df.fillna(\"No\",inplace=True)"
   ]
  },
  {
   "cell_type": "code",
   "execution_count": null,
   "id": "3f7a333c",
   "metadata": {},
   "outputs": [],
   "source": [
    "df"
   ]
  },
  {
   "cell_type": "code",
   "execution_count": null,
   "id": "b063571c",
   "metadata": {},
   "outputs": [],
   "source": [
    "x=df[\"Outcome\"].map({1:\"Y\",0:\"N\"})"
   ]
  },
  {
   "cell_type": "code",
   "execution_count": null,
   "id": "60c26bee",
   "metadata": {},
   "outputs": [],
   "source": [
    "df.insert(2,\"NewBMI\",x)"
   ]
  },
  {
   "cell_type": "code",
   "execution_count": null,
   "id": "af4e76c0",
   "metadata": {},
   "outputs": [],
   "source": [
    "df"
   ]
  },
  {
   "cell_type": "code",
   "execution_count": null,
   "id": "de4341ca",
   "metadata": {},
   "outputs": [],
   "source": [
    "df1=pd.read_csv(\"googleplaystore.csv\")\n",
    "data=df1"
   ]
  },
  {
   "cell_type": "code",
   "execution_count": null,
   "id": "19332266",
   "metadata": {},
   "outputs": [],
   "source": [
    "df1"
   ]
  },
  {
   "cell_type": "code",
   "execution_count": null,
   "id": "9b47d4a4",
   "metadata": {},
   "outputs": [],
   "source": [
    "df1.columns"
   ]
  },
  {
   "cell_type": "code",
   "execution_count": null,
   "id": "b4b83926",
   "metadata": {},
   "outputs": [],
   "source": [
    "type(df1[df1[ \"Rating\"]==df1[ \"Rating\"].max()].loc[10472,\"App\"])"
   ]
  },
  {
   "cell_type": "code",
   "execution_count": null,
   "id": "900fe858",
   "metadata": {},
   "outputs": [],
   "source": [
    "df1[ 'Type'].unique()"
   ]
  },
  {
   "cell_type": "code",
   "execution_count": null,
   "id": "03e6ea57",
   "metadata": {},
   "outputs": [],
   "source": [
    "import pandas as pd\n",
    "panda=pd.read_csv('udemy_courses.csv')\n",
    "panda"
   ]
  },
  {
   "cell_type": "code",
   "execution_count": null,
   "id": "569c8c62",
   "metadata": {},
   "outputs": [],
   "source": [
    "panda.groupby(\"level\").get_group(\"All Levels\")"
   ]
  },
  {
   "cell_type": "code",
   "execution_count": null,
   "id": "b1fb5ad8",
   "metadata": {},
   "outputs": [],
   "source": [
    "panda[panda[\"course_title\"].str.contains(\"jQuery\")].index"
   ]
  },
  {
   "cell_type": "code",
   "execution_count": null,
   "id": "89dd67f1",
   "metadata": {},
   "outputs": [],
   "source": [
    "panda.rename()"
   ]
  },
  {
   "cell_type": "code",
   "execution_count": null,
   "id": "1e213955",
   "metadata": {},
   "outputs": [],
   "source": [
    "panda[\"level\"]=panda[\"level\"].replace(\"All Levels\",\"ALL LEVELS\")"
   ]
  },
  {
   "cell_type": "code",
   "execution_count": null,
   "id": "2ba4b669",
   "metadata": {},
   "outputs": [],
   "source": [
    "panda\n",
    "\n"
   ]
  },
  {
   "cell_type": "code",
   "execution_count": null,
   "id": "bb709293",
   "metadata": {},
   "outputs": [],
   "source": [
    "sum(panda[\"level\"]==\"All Levels\")"
   ]
  },
  {
   "cell_type": "code",
   "execution_count": null,
   "id": "0f82ab7d",
   "metadata": {},
   "outputs": [],
   "source": [
    "panda[\"level\"].mode()"
   ]
  },
  {
   "cell_type": "code",
   "execution_count": null,
   "id": "9538bebe",
   "metadata": {},
   "outputs": [],
   "source": [
    "panda[\"level\"].value_counts()"
   ]
  },
  {
   "cell_type": "code",
   "execution_count": null,
   "id": "5dcf013b",
   "metadata": {},
   "outputs": [],
   "source": [
    "panda.isnull().sum()"
   ]
  },
  {
   "cell_type": "code",
   "execution_count": null,
   "id": "ae17b702",
   "metadata": {},
   "outputs": [],
   "source": [
    "panda[\"level\"].unique()"
   ]
  },
  {
   "cell_type": "code",
   "execution_count": null,
   "id": "17f4c158",
   "metadata": {},
   "outputs": [],
   "source": [
    "panda[\"level\"]=panda[\"level\"].replace('ALL LEVELS',10)"
   ]
  },
  {
   "cell_type": "code",
   "execution_count": null,
   "id": "3e6f9dac",
   "metadata": {},
   "outputs": [],
   "source": [
    "panda"
   ]
  },
  {
   "cell_type": "code",
   "execution_count": null,
   "id": "5c1557f0",
   "metadata": {},
   "outputs": [],
   "source": [
    "panda[\"level\"]=panda[\"level\"].replace('Intermediate Level',1)"
   ]
  },
  {
   "cell_type": "code",
   "execution_count": null,
   "id": "303be7ee",
   "metadata": {},
   "outputs": [],
   "source": [
    "panda"
   ]
  },
  {
   "cell_type": "code",
   "execution_count": null,
   "id": "d860f7c1",
   "metadata": {},
   "outputs": [],
   "source": [
    "panda[\"level\"]=panda[\"level\"].replace('Beginner Level',0)"
   ]
  },
  {
   "cell_type": "code",
   "execution_count": null,
   "id": "fe16ef75",
   "metadata": {},
   "outputs": [],
   "source": [
    "panda"
   ]
  },
  {
   "cell_type": "code",
   "execution_count": null,
   "id": "bbdd46e9",
   "metadata": {},
   "outputs": [],
   "source": [
    "panda[\"level\"]=panda[\"level\"].replace('Expert Level',9)"
   ]
  },
  {
   "cell_type": "code",
   "execution_count": null,
   "id": "740919d1",
   "metadata": {},
   "outputs": [],
   "source": [
    "panda"
   ]
  },
  {
   "cell_type": "code",
   "execution_count": null,
   "id": "ae4db169",
   "metadata": {},
   "outputs": [],
   "source": [
    "panda[\"level\"].unique()"
   ]
  },
  {
   "cell_type": "code",
   "execution_count": null,
   "id": "0cf0c8bc",
   "metadata": {},
   "outputs": [],
   "source": [
    "panda[\"New_level\"]=panda[\"level\"].replace(to_replace=[10,1,0,9],value=[\"All\",\"Intermidate\",\"Beginner\",\"Expert\"])"
   ]
  },
  {
   "cell_type": "code",
   "execution_count": null,
   "id": "3d82a4ab",
   "metadata": {},
   "outputs": [],
   "source": [
    "panda"
   ]
  },
  {
   "cell_type": "code",
   "execution_count": null,
   "id": "b4a89f45",
   "metadata": {},
   "outputs": [],
   "source": [
    "panda[\"level\"].mean()"
   ]
  },
  {
   "cell_type": "code",
   "execution_count": null,
   "id": "20d61722",
   "metadata": {},
   "outputs": [],
   "source": [
    "panda.groupby(\"subject\")[\"level\"].mean()"
   ]
  },
  {
   "cell_type": "code",
   "execution_count": null,
   "id": "6ddd49d3",
   "metadata": {},
   "outputs": [],
   "source": [
    "import matplotlib.pyplot as plt\n",
    "import seaborn as sns\n",
    "panda"
   ]
  },
  {
   "cell_type": "code",
   "execution_count": null,
   "id": "9e21466b",
   "metadata": {},
   "outputs": [],
   "source": [
    "sns.countplot(panda[\"New_level\"])"
   ]
  },
  {
   "cell_type": "code",
   "execution_count": null,
   "id": "bf019eff",
   "metadata": {},
   "outputs": [],
   "source": [
    "panda[\"price\"].hist()"
   ]
  },
  {
   "cell_type": "code",
   "execution_count": null,
   "id": "df485c93",
   "metadata": {},
   "outputs": [],
   "source": [
    "import numpy as np\n",
    "sns.barplot(x=\"subject\",y=\"level\",estimator=np.var,data=panda)\n",
    "plt.show()"
   ]
  },
  {
   "cell_type": "code",
   "execution_count": null,
   "id": "e0d798a2",
   "metadata": {},
   "outputs": [],
   "source": [
    "import pandas as pd\n",
    "data=pd.read_csv(\"top-5000-youtube-channels.csv\")"
   ]
  },
  {
   "cell_type": "code",
   "execution_count": null,
   "id": "98cf6c55",
   "metadata": {},
   "outputs": [],
   "source": [
    "data"
   ]
  },
  {
   "cell_type": "code",
   "execution_count": null,
   "id": "1a3299d7",
   "metadata": {},
   "outputs": [],
   "source": [
    " data=data.replace(\"--\",np.nan,regex=True)"
   ]
  },
  {
   "cell_type": "code",
   "execution_count": null,
   "id": "6448f94d",
   "metadata": {},
   "outputs": [],
   "source": [
    "data.head(20)"
   ]
  },
  {
   "cell_type": "code",
   "execution_count": null,
   "id": "bdf3f201",
   "metadata": {},
   "outputs": [],
   "source": [
    "data.isnull().sum()"
   ]
  },
  {
   "cell_type": "code",
   "execution_count": null,
   "id": "6b5afc80",
   "metadata": {},
   "outputs": [],
   "source": [
    "data[\"Rank\"]=data[\"Rank\"].str.replace(\",\",\"\")"
   ]
  },
  {
   "cell_type": "code",
   "execution_count": null,
   "id": "899adfa0",
   "metadata": {},
   "outputs": [],
   "source": [
    "data[\"Rank\"]"
   ]
  },
  {
   "cell_type": "code",
   "execution_count": null,
   "id": "43b919ae",
   "metadata": {},
   "outputs": [],
   "source": [
    "data[\"Rank\"]=data[\"Rank\"].str[0:-2]"
   ]
  },
  {
   "cell_type": "code",
   "execution_count": null,
   "id": "e76e5092",
   "metadata": {},
   "outputs": [],
   "source": [
    "data[\"Rank\"]"
   ]
  },
  {
   "cell_type": "code",
   "execution_count": null,
   "id": "f23110f2",
   "metadata": {},
   "outputs": [],
   "source": []
  }
 ],
 "metadata": {
  "kernelspec": {
   "display_name": "Python 3 (ipykernel)",
   "language": "python",
   "name": "python3"
  },
  "language_info": {
   "codemirror_mode": {
    "name": "ipython",
    "version": 3
   },
   "file_extension": ".py",
   "mimetype": "text/x-python",
   "name": "python",
   "nbconvert_exporter": "python",
   "pygments_lexer": "ipython3",
   "version": "3.9.13"
  }
 },
 "nbformat": 4,
 "nbformat_minor": 5
}
