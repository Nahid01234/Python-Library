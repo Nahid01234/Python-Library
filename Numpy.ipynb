{
 "cells": [
  {
   "cell_type": "markdown",
   "id": "33157f10",
   "metadata": {},
   "source": [
    "# ❤Numpy❤"
   ]
  },
  {
   "cell_type": "markdown",
   "id": "a7779164",
   "metadata": {},
   "source": [
    "### 0.Basics"
   ]
  },
  {
   "cell_type": "code",
   "execution_count": 2,
   "id": "9cf51b92",
   "metadata": {},
   "outputs": [],
   "source": [
    "import numpy as np"
   ]
  },
  {
   "cell_type": "code",
   "execution_count": 2,
   "id": "8bc44e85",
   "metadata": {},
   "outputs": [
    {
     "data": {
      "text/plain": [
       "dtype('int32')"
      ]
     },
     "execution_count": 2,
     "metadata": {},
     "output_type": "execute_result"
    }
   ],
   "source": [
    "np.array([2,3]).dtype"
   ]
  },
  {
   "cell_type": "code",
   "execution_count": 3,
   "id": "1d8ffacf",
   "metadata": {},
   "outputs": [
    {
     "data": {
      "text/plain": [
       "array([1, 2, 3])"
      ]
     },
     "execution_count": 3,
     "metadata": {},
     "output_type": "execute_result"
    }
   ],
   "source": [
    "#onedimension_array\n",
    "arr1=np.array([1,2,3])\n",
    "arr1"
   ]
  },
  {
   "cell_type": "code",
   "execution_count": 4,
   "id": "5a541e7b",
   "metadata": {},
   "outputs": [
    {
     "data": {
      "text/plain": [
       "array([[1, 2],\n",
       "       [3, 4]], dtype=int8)"
      ]
     },
     "execution_count": 4,
     "metadata": {},
     "output_type": "execute_result"
    }
   ],
   "source": [
    "#twodimension_array\n",
    "arr2=np.array([[1,2],[3,4]],dtype=\"int8\")\n",
    "arr2"
   ]
  },
  {
   "cell_type": "code",
   "execution_count": 5,
   "id": "8b507066",
   "metadata": {},
   "outputs": [
    {
     "name": "stdout",
     "output_type": "stream",
     "text": [
      "1\n",
      "2\n"
     ]
    }
   ],
   "source": [
    "#dimension\n",
    "print(arr1.ndim)\n",
    "print(arr2.ndim)\n"
   ]
  },
  {
   "cell_type": "code",
   "execution_count": null,
   "id": "8b252ea7",
   "metadata": {},
   "outputs": [],
   "source": []
  },
  {
   "cell_type": "code",
   "execution_count": 6,
   "id": "2cb02f2e",
   "metadata": {},
   "outputs": [
    {
     "name": "stdout",
     "output_type": "stream",
     "text": [
      "<class 'numpy.ndarray'>\n"
     ]
    }
   ],
   "source": [
    "#type\n",
    "print(type(arr1))"
   ]
  },
  {
   "cell_type": "code",
   "execution_count": 7,
   "id": "fbb87036",
   "metadata": {},
   "outputs": [
    {
     "name": "stdout",
     "output_type": "stream",
     "text": [
      "3\n",
      "4\n"
     ]
    }
   ],
   "source": [
    "#num_of elements\n",
    "print(arr1.size)\n",
    "print(arr2.size)"
   ]
  },
  {
   "cell_type": "code",
   "execution_count": 8,
   "id": "26bc03f7",
   "metadata": {},
   "outputs": [
    {
     "name": "stdout",
     "output_type": "stream",
     "text": [
      "(3,)\n",
      "(2, 2)\n"
     ]
    }
   ],
   "source": [
    "#shape of array\n",
    "print(arr1.shape)\n",
    "print(arr2.shape)"
   ]
  },
  {
   "cell_type": "code",
   "execution_count": 9,
   "id": "dc402386",
   "metadata": {},
   "outputs": [
    {
     "name": "stdout",
     "output_type": "stream",
     "text": [
      "12\n",
      "4\n"
     ]
    }
   ],
   "source": [
    "#total_memory_taken\n",
    "print(arr1.nbytes)\n",
    "print(arr2.nbytes)"
   ]
  },
  {
   "cell_type": "code",
   "execution_count": 10,
   "id": "44a1cad2",
   "metadata": {},
   "outputs": [
    {
     "name": "stdout",
     "output_type": "stream",
     "text": [
      "int32\n",
      "int8\n"
     ]
    }
   ],
   "source": [
    "print(arr1.dtype)\n",
    "print(arr2.dtype)"
   ]
  },
  {
   "cell_type": "markdown",
   "id": "52394caa",
   "metadata": {},
   "source": [
    "### 1.Arange"
   ]
  },
  {
   "cell_type": "code",
   "execution_count": 11,
   "id": "d298f307",
   "metadata": {},
   "outputs": [
    {
     "data": {
      "text/plain": [
       "array([0, 1, 2, 3, 4, 5, 6, 7, 8])"
      ]
     },
     "execution_count": 11,
     "metadata": {},
     "output_type": "execute_result"
    }
   ],
   "source": [
    "np.arange(9)"
   ]
  },
  {
   "cell_type": "code",
   "execution_count": 12,
   "id": "516fd8a7",
   "metadata": {},
   "outputs": [
    {
     "data": {
      "text/plain": [
       "array([1, 2, 3, 4, 5, 6, 7, 8, 9])"
      ]
     },
     "execution_count": 12,
     "metadata": {},
     "output_type": "execute_result"
    }
   ],
   "source": [
    "np.arange(1,10)"
   ]
  },
  {
   "cell_type": "code",
   "execution_count": 13,
   "id": "f146e975",
   "metadata": {},
   "outputs": [
    {
     "data": {
      "text/plain": [
       "array([1, 4, 7])"
      ]
     },
     "execution_count": 13,
     "metadata": {},
     "output_type": "execute_result"
    }
   ],
   "source": [
    "np.arange(1,10,3)"
   ]
  },
  {
   "cell_type": "code",
   "execution_count": 14,
   "id": "4a2c44ca",
   "metadata": {},
   "outputs": [
    {
     "name": "stdout",
     "output_type": "stream",
     "text": [
      "[1. 3. 5. 7. 9.]\n",
      "[1 4 7]\n",
      "[1.+0.j 4.+0.j 7.+0.j]\n"
     ]
    }
   ],
   "source": [
    "print(np.arange(1,10,2,dtype=\"float\"))\n",
    "print(np.arange(1,10,3,dtype='int'))\n",
    "print(np.arange(1,10,3,dtype='complex'))"
   ]
  },
  {
   "cell_type": "markdown",
   "id": "318ba1f1",
   "metadata": {},
   "source": [
    "### 1.Zeros"
   ]
  },
  {
   "cell_type": "code",
   "execution_count": 15,
   "id": "a57af572",
   "metadata": {},
   "outputs": [
    {
     "name": "stdout",
     "output_type": "stream",
     "text": [
      "[0. 0. 0. 0.]\n",
      "second dimension\n",
      "[[0.+0.j 0.+0.j 0.+0.j 0.+0.j]\n",
      " [0.+0.j 0.+0.j 0.+0.j 0.+0.j]\n",
      " [0.+0.j 0.+0.j 0.+0.j 0.+0.j]\n",
      " [0.+0.j 0.+0.j 0.+0.j 0.+0.j]]\n",
      "third dimension\n",
      "[[[0. 0. 0. 0.]\n",
      "  [0. 0. 0. 0.]\n",
      "  [0. 0. 0. 0.]\n",
      "  [0. 0. 0. 0.]]\n",
      "\n",
      " [[0. 0. 0. 0.]\n",
      "  [0. 0. 0. 0.]\n",
      "  [0. 0. 0. 0.]\n",
      "  [0. 0. 0. 0.]]\n",
      "\n",
      " [[0. 0. 0. 0.]\n",
      "  [0. 0. 0. 0.]\n",
      "  [0. 0. 0. 0.]\n",
      "  [0. 0. 0. 0.]]\n",
      "\n",
      " [[0. 0. 0. 0.]\n",
      "  [0. 0. 0. 0.]\n",
      "  [0. 0. 0. 0.]\n",
      "  [0. 0. 0. 0.]]]\n"
     ]
    }
   ],
   "source": [
    "zero=np.zeros(4)\n",
    "zero1=np.zeros((4,4),dtype=\"complex\")\n",
    "zero2=np.zeros((4,4,4))\n",
    "print(zero)\n",
    "print(\"second dimension\")\n",
    "print(zero1)\n",
    "print(\"third dimension\")\n",
    "print(zero2)"
   ]
  },
  {
   "cell_type": "markdown",
   "id": "117d2a59",
   "metadata": {},
   "source": [
    "### 2.Ones"
   ]
  },
  {
   "cell_type": "code",
   "execution_count": 16,
   "id": "6fe13b14",
   "metadata": {},
   "outputs": [
    {
     "name": "stdout",
     "output_type": "stream",
     "text": [
      "[1. 1. 1. 1.]\n",
      "second dimension\n",
      "[[1.+0.j 1.+0.j 1.+0.j]\n",
      " [1.+0.j 1.+0.j 1.+0.j]\n",
      " [1.+0.j 1.+0.j 1.+0.j]]\n",
      "three dimension\n",
      "[[[1. 1. 1.]\n",
      "  [1. 1. 1.]\n",
      "  [1. 1. 1.]]\n",
      "\n",
      " [[1. 1. 1.]\n",
      "  [1. 1. 1.]\n",
      "  [1. 1. 1.]]\n",
      "\n",
      " [[1. 1. 1.]\n",
      "  [1. 1. 1.]\n",
      "  [1. 1. 1.]]]\n"
     ]
    },
    {
     "data": {
      "text/plain": [
       "1.0"
      ]
     },
     "execution_count": 16,
     "metadata": {},
     "output_type": "execute_result"
    }
   ],
   "source": [
    "one=np.ones(4)\n",
    "one1=np.ones((3,3),dtype=complex)\n",
    "one2=np.ones((3,3,3))\n",
    "print(one)\n",
    "print(\"second dimension\")\n",
    "print(one1)\n",
    "print(\"three dimension\")\n",
    "print(one2)\n",
    "one2[1,1,1]"
   ]
  },
  {
   "cell_type": "markdown",
   "id": "9766d5c6",
   "metadata": {},
   "source": [
    "### 3.Identity"
   ]
  },
  {
   "cell_type": "code",
   "execution_count": 17,
   "id": "59e58c2b",
   "metadata": {},
   "outputs": [
    {
     "name": "stdout",
     "output_type": "stream",
     "text": [
      "[[1. 0.]\n",
      " [0. 1.]\n",
      " [0. 0.]]\n",
      "\n",
      "[[1. 0.]\n",
      " [0. 1.]]\n"
     ]
    }
   ],
   "source": [
    "identity=np.eye(3,2)\n",
    "identity1=np.eye(2,2)\n",
    "print(identity)\n",
    "print()\n",
    "print(identity1)"
   ]
  },
  {
   "cell_type": "code",
   "execution_count": 18,
   "id": "da559fd8",
   "metadata": {},
   "outputs": [
    {
     "name": "stdout",
     "output_type": "stream",
     "text": [
      "[[1. 0. 0.]\n",
      " [0. 1. 0.]\n",
      " [0. 0. 1.]]\n"
     ]
    }
   ],
   "source": [
    "idn=np.identity(3)\n",
    "print(idn)"
   ]
  },
  {
   "cell_type": "markdown",
   "id": "c61537b2",
   "metadata": {},
   "source": [
    "### 4.Array_Slicing"
   ]
  },
  {
   "cell_type": "code",
   "execution_count": 5,
   "id": "414f473f",
   "metadata": {},
   "outputs": [
    {
     "name": "stdout",
     "output_type": "stream",
     "text": [
      "[4 5 6 7]\n"
     ]
    }
   ],
   "source": [
    "arr=np.array([1,2,3,4,5,6,7,8])\n",
    "print(arr[3:7])"
   ]
  },
  {
   "cell_type": "code",
   "execution_count": 3,
   "id": "b5785860",
   "metadata": {},
   "outputs": [
    {
     "name": "stdout",
     "output_type": "stream",
     "text": [
      "9\n"
     ]
    }
   ],
   "source": [
    "arr=np.array([[9,8,7],[0,1,2]])\n",
    "print(arr[0,0])"
   ]
  },
  {
   "cell_type": "code",
   "execution_count": 21,
   "id": "78690426",
   "metadata": {},
   "outputs": [
    {
     "name": "stdout",
     "output_type": "stream",
     "text": [
      "[4 2 1]\n"
     ]
    }
   ],
   "source": [
    "arr=np.array([[[1,9,0,3,5],[2,4,8,2,1]],[[1,2,3,4,5],[5,6,4,2,1]]])\n",
    "print(arr[1][1][2:])"
   ]
  },
  {
   "cell_type": "code",
   "execution_count": 22,
   "id": "14ca931c",
   "metadata": {},
   "outputs": [
    {
     "data": {
      "text/plain": [
       "array([[['1', 'f', '0', 'f', 'f'],\n",
       "        ['2', 'f', 'f', '2', '1']],\n",
       "\n",
       "       [['1', '2', 'f', 'f', 'f'],\n",
       "        ['f', 'f', 'f', '2', '1']]], dtype='<U11')"
      ]
     },
     "execution_count": 22,
     "metadata": {},
     "output_type": "execute_result"
    }
   ],
   "source": [
    "#where_function\n",
    "np.where(arr<3,arr,\"f\")"
   ]
  },
  {
   "cell_type": "code",
   "execution_count": 23,
   "id": "5d5b1ef3",
   "metadata": {},
   "outputs": [
    {
     "data": {
      "text/plain": [
       "array([[[False, False, False, False,  True],\n",
       "        [False,  True, False, False, False]],\n",
       "\n",
       "       [[False, False, False,  True,  True],\n",
       "        [ True, False,  True, False, False]]])"
      ]
     },
     "execution_count": 23,
     "metadata": {},
     "output_type": "execute_result"
    }
   ],
   "source": [
    "#logical_and\n",
    "np.logical_and(arr>3,arr<=5)"
   ]
  },
  {
   "cell_type": "markdown",
   "id": "67d41175",
   "metadata": {},
   "source": [
    "### 5.Copy"
   ]
  },
  {
   "cell_type": "code",
   "execution_count": 24,
   "id": "0c96037c",
   "metadata": {},
   "outputs": [
    {
     "name": "stdout",
     "output_type": "stream",
     "text": [
      "[[10  2]\n",
      " [ 3  4]]\n"
     ]
    }
   ],
   "source": [
    "arr2\n",
    "arr3=arr2.copy()\n",
    "arr3[0][0]=10\n",
    "print(arr3)"
   ]
  },
  {
   "cell_type": "code",
   "execution_count": 25,
   "id": "47dd6c1b",
   "metadata": {},
   "outputs": [
    {
     "data": {
      "text/plain": [
       "array([[1, 2],\n",
       "       [3, 4]], dtype=int8)"
      ]
     },
     "execution_count": 25,
     "metadata": {},
     "output_type": "execute_result"
    }
   ],
   "source": [
    "arr2"
   ]
  },
  {
   "cell_type": "code",
   "execution_count": 26,
   "id": "d164672d",
   "metadata": {},
   "outputs": [
    {
     "name": "stdout",
     "output_type": "stream",
     "text": [
      "[[[1 9 0 3 5]\n",
      "  [2 4 8 2 1]]\n",
      "\n",
      " [[1 2 3 4 5]\n",
      "  [5 6 4 2 1]]]\n"
     ]
    },
    {
     "data": {
      "text/plain": [
       "2"
      ]
     },
     "execution_count": 26,
     "metadata": {},
     "output_type": "execute_result"
    }
   ],
   "source": [
    "arr\n",
    "arr3d=arr.copy()\n",
    "print(arr3d)\n",
    "arr3d[1][1][3]"
   ]
  },
  {
   "cell_type": "markdown",
   "id": "2dbf8132",
   "metadata": {},
   "source": [
    "### 6.Full"
   ]
  },
  {
   "cell_type": "code",
   "execution_count": 27,
   "id": "f269e3d7",
   "metadata": {},
   "outputs": [
    {
     "name": "stdout",
     "output_type": "stream",
     "text": [
      "[[8 8 8 8 8]\n",
      " [8 8 8 8 8]\n",
      " [8 8 8 8 8]\n",
      " [8 8 8 8 8]\n",
      " [8 8 8 8 8]]\n"
     ]
    }
   ],
   "source": [
    "x=np.full((5,5),8)\n",
    "print(x)"
   ]
  },
  {
   "cell_type": "code",
   "execution_count": 28,
   "id": "d600db12",
   "metadata": {},
   "outputs": [
    {
     "name": "stdout",
     "output_type": "stream",
     "text": [
      "[[9 9 9 9 9 9 9 9]\n",
      " [9 9 9 9 9 9 9 9]\n",
      " [9 9 9 9 9 9 9 9]\n",
      " [9 9 9 9 9 9 9 9]\n",
      " [9 9 9 9 9 9 9 9]]\n"
     ]
    }
   ],
   "source": [
    "x=np.full((5,8),9)\n",
    "print(x)"
   ]
  },
  {
   "cell_type": "code",
   "execution_count": 29,
   "id": "05f273b3",
   "metadata": {},
   "outputs": [
    {
     "name": "stdout",
     "output_type": "stream",
     "text": [
      "[[10 10 10 ... 10 10 10]\n",
      " [10 10 10 ... 10 10 10]\n",
      " [10 10 10 ... 10 10 10]\n",
      " ...\n",
      " [10 10 10 ... 10 10 10]\n",
      " [10 10 10 ... 10 10 10]\n",
      " [10 10 10 ... 10 10 10]]\n"
     ]
    }
   ],
   "source": [
    "x=np.full((100,100),10)\n",
    "print(x)"
   ]
  },
  {
   "cell_type": "markdown",
   "id": "a95b4f54",
   "metadata": {},
   "source": [
    "### 7.Random_number"
   ]
  },
  {
   "cell_type": "code",
   "execution_count": 30,
   "id": "dbc1c93d",
   "metadata": {},
   "outputs": [
    {
     "name": "stdout",
     "output_type": "stream",
     "text": [
      "[[0.73765346 0.41745774 0.87970383 0.41985714 0.43659123]\n",
      " [0.18528537 0.29346853 0.55030635 0.4580417  0.19768559]\n",
      " [0.80146874 0.51931858 0.50334105 0.5333333  0.79915891]]\n"
     ]
    }
   ],
   "source": [
    "x=np.random.rand(3,5)\n",
    "print(x)"
   ]
  },
  {
   "cell_type": "code",
   "execution_count": 31,
   "id": "fe23c395",
   "metadata": {},
   "outputs": [
    {
     "name": "stdout",
     "output_type": "stream",
     "text": [
      "[[2 3 4]\n",
      " [4 2 2]\n",
      " [3 2 5]]\n",
      "\n",
      "[3 4 2]\n"
     ]
    }
   ],
   "source": [
    "print(np.random.randint(2,6,size=(3,3)))\n",
    "print()\n",
    "print(np.random.randint(5,size=3))"
   ]
  },
  {
   "cell_type": "code",
   "execution_count": 32,
   "id": "050d9057",
   "metadata": {},
   "outputs": [
    {
     "data": {
      "text/plain": [
       "array([[0.07946994, 0.69766566, 0.81301769],\n",
       "       [0.24698828, 0.65145488, 0.3275259 ],\n",
       "       [0.96072337, 0.36102915, 0.83467365]])"
      ]
     },
     "execution_count": 32,
     "metadata": {},
     "output_type": "execute_result"
    }
   ],
   "source": [
    "np.random.ranf((3,3))"
   ]
  },
  {
   "cell_type": "markdown",
   "id": "23f94bb3",
   "metadata": {},
   "source": [
    "### 8.Mathematical_Operation\n"
   ]
  },
  {
   "cell_type": "code",
   "execution_count": 33,
   "id": "e0bd5ec8",
   "metadata": {},
   "outputs": [
    {
     "name": "stdout",
     "output_type": "stream",
     "text": [
      "[[ 7  8  9]\n",
      " [10 11 12]]\n"
     ]
    }
   ],
   "source": [
    "ar=np.array([[1,2,3],[4,5,6]])\n",
    "ar=ar+6\n",
    "print(ar)\n"
   ]
  },
  {
   "cell_type": "code",
   "execution_count": 34,
   "id": "ad7e69f5",
   "metadata": {},
   "outputs": [
    {
     "name": "stdout",
     "output_type": "stream",
     "text": [
      "[[-5 -4 -3]\n",
      " [-2 -1  0]]\n"
     ]
    }
   ],
   "source": [
    "ar=np.array([[1,2,3],[4,5,6]])\n",
    "ar=ar-6\n",
    "print(ar)"
   ]
  },
  {
   "cell_type": "code",
   "execution_count": 35,
   "id": "ca16b68c",
   "metadata": {},
   "outputs": [
    {
     "name": "stdout",
     "output_type": "stream",
     "text": [
      "[[ 6 12 18]\n",
      " [24 30 36]]\n"
     ]
    }
   ],
   "source": [
    "ar=np.array([[1,2,3],[4,5,6]])\n",
    "ar=ar*6\n",
    "print(ar)"
   ]
  },
  {
   "cell_type": "code",
   "execution_count": 36,
   "id": "c2097cb2",
   "metadata": {},
   "outputs": [
    {
     "name": "stdout",
     "output_type": "stream",
     "text": [
      "[[0.16666667 0.33333333 0.5       ]\n",
      " [0.66666667 0.83333333 1.        ]]\n"
     ]
    }
   ],
   "source": [
    "ar=np.array([[1,2,3],[4,5,6]])\n",
    "ar=ar/6\n",
    "print(ar)"
   ]
  },
  {
   "cell_type": "markdown",
   "id": "8bdc93e9",
   "metadata": {},
   "source": [
    "### 9.Sin&Cos_Function"
   ]
  },
  {
   "cell_type": "code",
   "execution_count": 37,
   "id": "ccd7f22b",
   "metadata": {},
   "outputs": [
    {
     "name": "stdout",
     "output_type": "stream",
     "text": [
      "[[-0.839  -0.4163]\n",
      " [-0.99   -0.654 ]]\n",
      "\n",
      "[[-0.544   0.909 ]\n",
      " [ 0.1411 -0.757 ]]\n"
     ]
    }
   ],
   "source": [
    "cos=np.cos(arr3)\n",
    "print(cos)\n",
    "print()\n",
    "sin=np.sin(arr3)\n",
    "print(sin)"
   ]
  },
  {
   "cell_type": "markdown",
   "id": "33b9c527",
   "metadata": {},
   "source": [
    "### 10.Maximum_Minimum"
   ]
  },
  {
   "cell_type": "code",
   "execution_count": 38,
   "id": "7571fc45",
   "metadata": {},
   "outputs": [
    {
     "name": "stdout",
     "output_type": "stream",
     "text": [
      "2\n"
     ]
    }
   ],
   "source": [
    "mn=np.min(arr3)\n",
    "print(mn)"
   ]
  },
  {
   "cell_type": "code",
   "execution_count": 39,
   "id": "59dcb5d4",
   "metadata": {},
   "outputs": [
    {
     "name": "stdout",
     "output_type": "stream",
     "text": [
      "4.75\n"
     ]
    }
   ],
   "source": [
    "mn=np.mean(arr3)\n",
    "print(mn)"
   ]
  },
  {
   "cell_type": "code",
   "execution_count": 40,
   "id": "ddea2b20",
   "metadata": {},
   "outputs": [
    {
     "data": {
      "text/plain": [
       "2"
      ]
     },
     "execution_count": 40,
     "metadata": {},
     "output_type": "execute_result"
    }
   ],
   "source": [
    "arr3.min()"
   ]
  },
  {
   "cell_type": "code",
   "execution_count": 41,
   "id": "449a7c40",
   "metadata": {},
   "outputs": [
    {
     "name": "stdout",
     "output_type": "stream",
     "text": [
      "10\n"
     ]
    }
   ],
   "source": [
    "mx=np.max(arr3)\n",
    "print(mx)"
   ]
  },
  {
   "cell_type": "markdown",
   "id": "72d533c1",
   "metadata": {},
   "source": [
    "### 11.Linspace"
   ]
  },
  {
   "cell_type": "code",
   "execution_count": 42,
   "id": "ee11491b",
   "metadata": {},
   "outputs": [
    {
     "name": "stdout",
     "output_type": "stream",
     "text": [
      "[1. 2. 3. 4. 5.]\n",
      "[1.   1.25 1.5  1.75 2.  ]\n",
      "[1 1 1 2 2 2 3 3 3 4 4 5]\n"
     ]
    }
   ],
   "source": [
    "print(np.linspace(1,5,5))\n",
    "print(np.linspace(1,2,5))\n",
    "print(np.linspace(1,5,12,dtype=\"int\"))"
   ]
  },
  {
   "cell_type": "markdown",
   "id": "f8a6c0a0",
   "metadata": {},
   "source": [
    "### 12.Broadcasting"
   ]
  },
  {
   "cell_type": "code",
   "execution_count": 43,
   "id": "3dbac40c",
   "metadata": {},
   "outputs": [
    {
     "data": {
      "text/plain": [
       "array([[ 2,  4,  6,  8],\n",
       "       [ 2,  6,  8, 10]])"
      ]
     },
     "execution_count": 43,
     "metadata": {},
     "output_type": "execute_result"
    }
   ],
   "source": [
    "a=np.array([1,2,3,4])\n",
    "b=np.array([[1,2,3,4],[1,4,5,6]])\n",
    "a+b\n",
    "#1.take 1 to the fewer dimension at the left side\n",
    "#2one of the dimension should 1\n",
    "#3compare the right side of dimension(must be match up)\n",
    "#if 1,2,3 satisfied then the broadcasting applied"
   ]
  },
  {
   "cell_type": "markdown",
   "id": "e1a9aa22",
   "metadata": {},
   "source": [
    "### 13.Flatten & Ravel"
   ]
  },
  {
   "cell_type": "code",
   "execution_count": 44,
   "id": "5a7cc55b",
   "metadata": {},
   "outputs": [
    {
     "name": "stdout",
     "output_type": "stream",
     "text": [
      "[[18  2  3  4]\n",
      " [ 1  4  5  6]]\n",
      "[1 2 3 4 1 4 5 6]\n"
     ]
    }
   ],
   "source": [
    "#flatten\n",
    "b=np.array([[1,2,3,4],[1,4,5,6]])\n",
    "x=b.flatten()#row_wise\n",
    "b[0,0]=18\n",
    "print(b)\n",
    "print(x)\n"
   ]
  },
  {
   "cell_type": "code",
   "execution_count": 45,
   "id": "6edd8cd8",
   "metadata": {},
   "outputs": [
    {
     "data": {
      "text/plain": [
       "array([1, 1, 2, 4, 3, 5, 4, 6])"
      ]
     },
     "execution_count": 45,
     "metadata": {},
     "output_type": "execute_result"
    }
   ],
   "source": [
    "#flatten\n",
    "b=np.array([[1,2,3,4],[1,4,5,6]])\n",
    "b.flatten(order=\"f\")#column_wise"
   ]
  },
  {
   "cell_type": "code",
   "execution_count": 46,
   "id": "43920b50",
   "metadata": {},
   "outputs": [
    {
     "name": "stdout",
     "output_type": "stream",
     "text": [
      "[1 2 3 4 1 4 5 6]\n"
     ]
    }
   ],
   "source": [
    "#ravel\n",
    "b=np.array([[1,2,3,4],[1,4,5,6]])\n",
    "x=np.ravel(b)#row_wise\n",
    "print(x)"
   ]
  },
  {
   "cell_type": "code",
   "execution_count": 47,
   "id": "c98808c2",
   "metadata": {},
   "outputs": [
    {
     "name": "stdout",
     "output_type": "stream",
     "text": [
      "[[18  2  3  4]\n",
      " [ 1  4  5  6]]\n",
      "[18  2  3  4  1  4  5  6]\n"
     ]
    }
   ],
   "source": [
    "b[0,0]=18\n",
    "print(b)\n",
    "print(x)"
   ]
  },
  {
   "cell_type": "code",
   "execution_count": 48,
   "id": "75861676",
   "metadata": {},
   "outputs": [
    {
     "data": {
      "text/plain": [
       "array([1, 1, 2, 4, 3, 5, 4, 6])"
      ]
     },
     "execution_count": 48,
     "metadata": {},
     "output_type": "execute_result"
    }
   ],
   "source": [
    "#ravel\n",
    "b=np.array([[1,2,3,4],[1,4,5,6]])\n",
    "np.ravel(b,order=\"F\")#column_wise"
   ]
  },
  {
   "cell_type": "markdown",
   "id": "ae270d8c",
   "metadata": {},
   "source": [
    "### 14.Transpose & Swapaxes"
   ]
  },
  {
   "cell_type": "code",
   "execution_count": 49,
   "id": "790e09f3",
   "metadata": {},
   "outputs": [
    {
     "name": "stdout",
     "output_type": "stream",
     "text": [
      "[[[1 9 0 3 5]\n",
      "  [2 4 8 2 1]]\n",
      "\n",
      " [[1 2 3 4 5]\n",
      "  [5 6 4 2 1]]]\n"
     ]
    },
    {
     "data": {
      "text/plain": [
       "array([[[1, 1],\n",
       "        [2, 5]],\n",
       "\n",
       "       [[9, 2],\n",
       "        [4, 6]],\n",
       "\n",
       "       [[0, 3],\n",
       "        [8, 4]],\n",
       "\n",
       "       [[3, 4],\n",
       "        [2, 2]],\n",
       "\n",
       "       [[5, 5],\n",
       "        [1, 1]]])"
      ]
     },
     "execution_count": 49,
     "metadata": {},
     "output_type": "execute_result"
    }
   ],
   "source": [
    "print(arr3d)\n",
    "arr3d.transpose()"
   ]
  },
  {
   "cell_type": "code",
   "execution_count": 50,
   "id": "322f191a",
   "metadata": {},
   "outputs": [
    {
     "name": "stdout",
     "output_type": "stream",
     "text": [
      "(2, 2, 5)\n"
     ]
    },
    {
     "data": {
      "text/plain": [
       "(5, 2, 2)"
      ]
     },
     "execution_count": 50,
     "metadata": {},
     "output_type": "execute_result"
    }
   ],
   "source": [
    "print((arr3d).shape)\n",
    "np.transpose(arr3d).shape"
   ]
  },
  {
   "cell_type": "code",
   "execution_count": 51,
   "id": "f3e047ad",
   "metadata": {},
   "outputs": [
    {
     "name": "stdout",
     "output_type": "stream",
     "text": [
      "[1 2 3 4]\n",
      "[1 2 3 4]\n"
     ]
    }
   ],
   "source": [
    "print(a)\n",
    "print(a.transpose())"
   ]
  },
  {
   "cell_type": "markdown",
   "id": "762ad4ed",
   "metadata": {},
   "source": [
    "### 15.Iteration"
   ]
  },
  {
   "cell_type": "code",
   "execution_count": 52,
   "id": "7e6e46d6",
   "metadata": {},
   "outputs": [
    {
     "name": "stdout",
     "output_type": "stream",
     "text": [
      "1\n",
      "2\n",
      "3\n"
     ]
    }
   ],
   "source": [
    "#one_dimension\n",
    "for i in arr1:\n",
    "    print(i)"
   ]
  },
  {
   "cell_type": "code",
   "execution_count": 53,
   "id": "34d6fe5a",
   "metadata": {},
   "outputs": [
    {
     "name": "stdout",
     "output_type": "stream",
     "text": [
      "10\n",
      "2\n",
      "3\n",
      "4\n"
     ]
    }
   ],
   "source": [
    "#two_dimension\n",
    "for i in arr3:\n",
    "    for j in i:\n",
    "        print(j)"
   ]
  },
  {
   "cell_type": "markdown",
   "id": "e312faec",
   "metadata": {},
   "source": [
    "### 16.Linear Algebra"
   ]
  },
  {
   "cell_type": "code",
   "execution_count": 54,
   "id": "669b4568",
   "metadata": {},
   "outputs": [
    {
     "data": {
      "text/plain": [
       "array([[6., 6.]])"
      ]
     },
     "execution_count": 54,
     "metadata": {},
     "output_type": "execute_result"
    }
   ],
   "source": [
    "a=np.ones((1,3))\n",
    "b=np.full((3,2),2)\n",
    "(np.matmul(a,b))"
   ]
  },
  {
   "cell_type": "code",
   "execution_count": 55,
   "id": "bb040977",
   "metadata": {},
   "outputs": [
    {
     "name": "stdout",
     "output_type": "stream",
     "text": [
      "The determinant: 1.0\n"
     ]
    }
   ],
   "source": [
    "b=np.identity(3)\n",
    "print(\"The determinant:\",np.linalg.det(b))"
   ]
  },
  {
   "cell_type": "code",
   "execution_count": 56,
   "id": "de2b3cfb",
   "metadata": {},
   "outputs": [
    {
     "data": {
      "text/plain": [
       "numpy.ndarray"
      ]
     },
     "execution_count": 56,
     "metadata": {},
     "output_type": "execute_result"
    }
   ],
   "source": [
    "type((arr3))"
   ]
  },
  {
   "cell_type": "markdown",
   "id": "4c0b7d22",
   "metadata": {},
   "source": [
    "### 17.Reorganising Array"
   ]
  },
  {
   "cell_type": "markdown",
   "id": "a985a0bc",
   "metadata": {},
   "source": [
    "#### 1.reshape"
   ]
  },
  {
   "cell_type": "code",
   "execution_count": 57,
   "id": "505d53bf",
   "metadata": {
    "scrolled": true
   },
   "outputs": [
    {
     "name": "stdout",
     "output_type": "stream",
     "text": [
      "[[1. 1. 1. 1.]\n",
      " [1. 1. 1. 1.]]\n",
      "After reshaping:\n",
      "[[[1. 1.]\n",
      "  [1. 1.]]\n",
      "\n",
      " [[1. 1.]\n",
      "  [1. 1.]]]\n"
     ]
    }
   ],
   "source": [
    "a=np.ones((2,4))\n",
    "print(a)\n",
    "print(\"After reshaping:\")\n",
    "print(a.reshape((2,2,2)))"
   ]
  },
  {
   "cell_type": "code",
   "execution_count": 58,
   "id": "ec5e4941",
   "metadata": {},
   "outputs": [
    {
     "data": {
      "text/plain": [
       "array([[[1., 1.],\n",
       "        [1., 1.]],\n",
       "\n",
       "       [[1., 1.],\n",
       "        [1., 1.]]])"
      ]
     },
     "execution_count": 58,
     "metadata": {},
     "output_type": "execute_result"
    }
   ],
   "source": [
    "b=np.reshape(a,(2,2,2))\n",
    "b"
   ]
  },
  {
   "cell_type": "code",
   "execution_count": 59,
   "id": "348024db",
   "metadata": {},
   "outputs": [
    {
     "data": {
      "text/plain": [
       "array([[ 1,  2],\n",
       "       [ 3,  4],\n",
       "       [ 5,  6],\n",
       "       [ 7,  8],\n",
       "       [ 9, 10]])"
      ]
     },
     "execution_count": 59,
     "metadata": {},
     "output_type": "execute_result"
    }
   ],
   "source": [
    "a=np.array([1,2,3,4,5,6,7,8,9,10])\n",
    "np.reshape(a,(5,2))\n"
   ]
  },
  {
   "cell_type": "code",
   "execution_count": 60,
   "id": "2a9ca3e3",
   "metadata": {},
   "outputs": [
    {
     "data": {
      "text/plain": [
       "array([ 1,  2,  3,  4,  5,  6,  7,  8,  9, 10])"
      ]
     },
     "execution_count": 60,
     "metadata": {},
     "output_type": "execute_result"
    }
   ],
   "source": [
    "a"
   ]
  },
  {
   "cell_type": "markdown",
   "id": "e7fe815b",
   "metadata": {},
   "source": [
    "#### 2.resize"
   ]
  },
  {
   "cell_type": "code",
   "execution_count": 61,
   "id": "21b6033e",
   "metadata": {},
   "outputs": [
    {
     "data": {
      "text/plain": [
       "array([[1, 2],\n",
       "       [3, 4],\n",
       "       [5, 1],\n",
       "       [2, 3],\n",
       "       [4, 5],\n",
       "       [1, 2],\n",
       "       [3, 4]])"
      ]
     },
     "execution_count": 61,
     "metadata": {},
     "output_type": "execute_result"
    }
   ],
   "source": [
    "x=np.array([1,2,3,4,5])\n",
    "np.resize(x,(7,2))"
   ]
  },
  {
   "cell_type": "markdown",
   "id": "535f370f",
   "metadata": {},
   "source": [
    "#### 3.Stacking"
   ]
  },
  {
   "cell_type": "code",
   "execution_count": 62,
   "id": "ee41ad05",
   "metadata": {},
   "outputs": [
    {
     "data": {
      "text/plain": [
       "array([[1, 2, 3, 4],\n",
       "       [8, 3, 4, 2]])"
      ]
     },
     "execution_count": 62,
     "metadata": {},
     "output_type": "execute_result"
    }
   ],
   "source": [
    "#verticaly stacking vectors\n",
    "v1=np.array([1,2,3,4])\n",
    "v2=np.array([8,3,4,2])\n",
    "np.vstack((v1,v2))"
   ]
  },
  {
   "cell_type": "code",
   "execution_count": 63,
   "id": "eccb144b",
   "metadata": {},
   "outputs": [
    {
     "data": {
      "text/plain": [
       "array([1, 2, 3, 4, 8, 3, 4, 2])"
      ]
     },
     "execution_count": 63,
     "metadata": {},
     "output_type": "execute_result"
    }
   ],
   "source": [
    "#horizontal stacking vectors\n",
    "h1=np.array([1,2,3,4])\n",
    "h2=np.array([8,3,4,2])\n",
    "np.hstack((h1,h2))"
   ]
  },
  {
   "cell_type": "markdown",
   "id": "3977c8c6",
   "metadata": {},
   "source": [
    "### 18.Load Data From File"
   ]
  },
  {
   "cell_type": "code",
   "execution_count": 64,
   "id": "8b320dd9",
   "metadata": {},
   "outputs": [
    {
     "data": {
      "text/plain": [
       "array([[ 1,  2,  3,  4,  5,  6,  7,  7,  8],\n",
       "       [ 1,  2,  3,  4,  5,  6,  8,  3,  5],\n",
       "       [ 1,  2,  3, 12,  3,  4,  5,  6,  7]], dtype=int8)"
      ]
     },
     "execution_count": 64,
     "metadata": {},
     "output_type": "execute_result"
    }
   ],
   "source": [
    "file=np.genfromtxt('numpy.txt')\n",
    "file.astype('int8')#\"int8\" or int\n"
   ]
  },
  {
   "cell_type": "code",
   "execution_count": 65,
   "id": "95543e5a",
   "metadata": {},
   "outputs": [
    {
     "data": {
      "text/plain": [
       "array([[False, False, False, False,  True,  True,  True,  True,  True],\n",
       "       [False, False, False, False,  True,  True,  True, False,  True],\n",
       "       [False, False, False,  True, False, False,  True,  True,  True]])"
      ]
     },
     "execution_count": 65,
     "metadata": {},
     "output_type": "execute_result"
    }
   ],
   "source": [
    "file>4"
   ]
  },
  {
   "cell_type": "code",
   "execution_count": 66,
   "id": "afdd5703",
   "metadata": {},
   "outputs": [
    {
     "data": {
      "text/plain": [
       "array([1., 2., 3., 1., 2., 3., 3., 1., 2., 3., 3.])"
      ]
     },
     "execution_count": 66,
     "metadata": {},
     "output_type": "execute_result"
    }
   ],
   "source": [
    "file[file<4]"
   ]
  },
  {
   "cell_type": "code",
   "execution_count": 67,
   "id": "6e4a96ac",
   "metadata": {},
   "outputs": [
    {
     "data": {
      "text/plain": [
       "array([ 5.,  6.,  7.,  7.,  8.,  5.,  6.,  8.,  5., 12.,  5.,  6.,  7.])"
      ]
     },
     "execution_count": 67,
     "metadata": {},
     "output_type": "execute_result"
    }
   ],
   "source": [
    "file[file>4]"
   ]
  },
  {
   "cell_type": "code",
   "execution_count": 68,
   "id": "f9cce283",
   "metadata": {},
   "outputs": [
    {
     "data": {
      "text/plain": [
       "array([False, False, False,  True, False, False,  True, False,  True])"
      ]
     },
     "execution_count": 68,
     "metadata": {},
     "output_type": "execute_result"
    }
   ],
   "source": [
    "np.any(file>7,axis=0)"
   ]
  },
  {
   "cell_type": "code",
   "execution_count": 69,
   "id": "ff50319a",
   "metadata": {},
   "outputs": [
    {
     "data": {
      "text/plain": [
       "array([ True,  True,  True])"
      ]
     },
     "execution_count": 69,
     "metadata": {},
     "output_type": "execute_result"
    }
   ],
   "source": [
    "np.any(file>7,axis=1)"
   ]
  },
  {
   "cell_type": "code",
   "execution_count": 70,
   "id": "9a8d3a92",
   "metadata": {},
   "outputs": [
    {
     "data": {
      "text/plain": [
       "array([[ 1,  2,  3,  4,  5],\n",
       "       [ 6,  7,  8,  9, 10],\n",
       "       [11, 12, 13, 14, 15],\n",
       "       [16, 17, 18, 19, 20],\n",
       "       [21, 22, 23, 24, 25],\n",
       "       [26, 27, 28, 29, 30]])"
      ]
     },
     "execution_count": 70,
     "metadata": {},
     "output_type": "execute_result"
    }
   ],
   "source": [
    "ex=np.array([[1,2,3,4,5],\n",
    "                  [6,7,8,9,10],\n",
    "                   [11,12,13,14,15],\n",
    "                   [16,17,18,19,20],\n",
    "                 [21,22,23,24,25],\n",
    "                 [26,27,28,29,30]])\n",
    "ex"
   ]
  },
  {
   "cell_type": "code",
   "execution_count": 71,
   "id": "fc58e3d0",
   "metadata": {},
   "outputs": [
    {
     "name": "stdout",
     "output_type": "stream",
     "text": [
      "11\n",
      "12\n",
      "16\n",
      "17\n"
     ]
    },
    {
     "data": {
      "text/plain": [
       "array([11, 12, 16, 17])"
      ]
     },
     "execution_count": 71,
     "metadata": {},
     "output_type": "execute_result"
    }
   ],
   "source": [
    "print(ex[2,0])\n",
    "print(ex[2,1])\n",
    "print(ex[3,0])\n",
    "print(ex[3,1])\n",
    "matrix=np.array([ex[2,0],ex[2,1],ex[3,0],ex[3,1]])\n",
    "matrix"
   ]
  },
  {
   "cell_type": "code",
   "execution_count": 72,
   "id": "da3368bc",
   "metadata": {},
   "outputs": [
    {
     "name": "stdout",
     "output_type": "stream",
     "text": [
      "[[11 12]\n",
      " [16 17]]\n",
      "\n",
      "[ 2  8 14 20]\n",
      "\n",
      "[[ 4  5]\n",
      " [24 25]\n",
      " [29 30]]\n"
     ]
    }
   ],
   "source": [
    "print(ex[2:4,0:2])\n",
    "print()\n",
    "print(ex[[0,1,2,3],[1,2,3,4]])\n",
    "print()\n",
    "print(ex[[0,4,5],3:])"
   ]
  },
  {
   "cell_type": "code",
   "execution_count": 73,
   "id": "0e8935be",
   "metadata": {},
   "outputs": [
    {
     "data": {
      "text/plain": [
       "array([[ 3,  4],\n",
       "       [ 8,  9],\n",
       "       [13, 14],\n",
       "       [18, 19],\n",
       "       [23, 24],\n",
       "       [28, 29]])"
      ]
     },
     "execution_count": 73,
     "metadata": {},
     "output_type": "execute_result"
    }
   ],
   "source": [
    "ex[:,-3:-1]"
   ]
  },
  {
   "cell_type": "code",
   "execution_count": 74,
   "id": "ac54ddb1",
   "metadata": {},
   "outputs": [
    {
     "data": {
      "text/plain": [
       "array([[[1, 9, 0, 3, 5],\n",
       "        [2, 4, 8, 2, 1]],\n",
       "\n",
       "       [[1, 2, 3, 4, 5],\n",
       "        [5, 6, 4, 2, 1]]])"
      ]
     },
     "execution_count": 74,
     "metadata": {},
     "output_type": "execute_result"
    }
   ],
   "source": [
    "\n",
    "arr3d"
   ]
  },
  {
   "cell_type": "code",
   "execution_count": 76,
   "id": "0a0a6765",
   "metadata": {},
   "outputs": [
    {
     "data": {
      "text/plain": [
       "array([[10,  2],\n",
       "       [ 3,  4]], dtype=int8)"
      ]
     },
     "execution_count": 76,
     "metadata": {},
     "output_type": "execute_result"
    }
   ],
   "source": [
    "arr3"
   ]
  },
  {
   "cell_type": "code",
   "execution_count": 77,
   "id": "0c491799",
   "metadata": {},
   "outputs": [
    {
     "data": {
      "text/plain": [
       "array([[1, 2],\n",
       "       [3, 4]], dtype=int8)"
      ]
     },
     "execution_count": 77,
     "metadata": {},
     "output_type": "execute_result"
    }
   ],
   "source": [
    "arr2"
   ]
  },
  {
   "cell_type": "code",
   "execution_count": 79,
   "id": "a3ec0d52",
   "metadata": {},
   "outputs": [
    {
     "data": {
      "text/plain": [
       "array([[10,  2],\n",
       "       [ 3,  4],\n",
       "       [ 1,  2],\n",
       "       [ 3,  4]], dtype=int8)"
      ]
     },
     "execution_count": 79,
     "metadata": {},
     "output_type": "execute_result"
    }
   ],
   "source": [
    "np.concatenate((arr3,arr2))"
   ]
  },
  {
   "cell_type": "code",
   "execution_count": null,
   "id": "0d4f98ea",
   "metadata": {},
   "outputs": [],
   "source": []
  }
 ],
 "metadata": {
  "kernelspec": {
   "display_name": "Python 3 (ipykernel)",
   "language": "python",
   "name": "python3"
  },
  "language_info": {
   "codemirror_mode": {
    "name": "ipython",
    "version": 3
   },
   "file_extension": ".py",
   "mimetype": "text/x-python",
   "name": "python",
   "nbconvert_exporter": "python",
   "pygments_lexer": "ipython3",
   "version": "3.9.13"
  }
 },
 "nbformat": 4,
 "nbformat_minor": 5
}
